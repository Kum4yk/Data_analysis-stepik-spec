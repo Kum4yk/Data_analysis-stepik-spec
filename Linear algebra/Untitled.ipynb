{
 "cells": [
  {
   "cell_type": "markdown",
   "metadata": {},
   "source": [
    "#### Скалярное произведение\n",
    "векторов x and y, которые имеют n компонент (коодинату из начала кооридинат):\n",
    "$$ (\\overrightarrow{x}; \\overrightarrow{y}) = \\sum_{i = 1}^{i = n}x_i \\cdot  y_i$$\n",
    "___\n"
   ]
  },
  {
   "cell_type": "markdown",
   "metadata": {},
   "source": [
    "#### Длина вектора\n",
    "Это квадратный корень из скалярного произведения вектора самого на себя, т.е.:\n",
    "$$ |\\overrightarrow{x}| = \\sqrt{ (\\overrightarrow{x}; \\overrightarrow{x}) }$$\n",
    "___"
   ]
  },
  {
   "cell_type": "markdown",
   "metadata": {},
   "source": [
    "#### Косинус между двумя векторами\n",
    "$$ cos\\alpha = \\frac{(x, y)}{|x|\\cdot|y|} $$\n",
    "___"
   ]
  },
  {
   "cell_type": "code",
   "execution_count": 26,
   "metadata": {},
   "outputs": [],
   "source": [
    "import math\n",
    "\n",
    "def shift_to_zero(start_point, end_point):\n",
    "    return tuple(y - x for x, y in zip(start_point, end_point))\n",
    "    \n",
    "def vector_length(end_point, start_point=False):\n",
    "    if start_point:\n",
    "        end_point = shift_to_zero(end_piont, start_point)\n",
    "    return scalar_mult(end_point, end_point) ** 0.5\n",
    "\n",
    "def scalar_mult(vector_a, vector_b):\n",
    "    return sum(x*y for x, y in zip(vector_a, vector_b))\n",
    "\n",
    "def cos(vector_a, vector_b):\n",
    "    return scalar_mult(vector_a, vector_b) / ( vector_length(vector_a) * vector_length(vector_b))\n",
    "\n",
    "def angle_rad(vector_a, vector_b):\n",
    "    return math.acos(cos(vector_a, vector_b))\n",
    "\n",
    "def angle_deg(vec_a, vec_b):\n",
    "    return angle_rad(vec_a, vec_b) / math.pi * 180\n",
    "\n"
   ]
  },
  {
   "cell_type": "code",
   "execution_count": 17,
   "metadata": {},
   "outputs": [
    {
     "name": "stdout",
     "output_type": "stream",
     "text": [
      "18.0\n"
     ]
    }
   ],
   "source": [
    "a = (2, 4, 2, 4, 2)\n",
    "b = (6, 4, 4, 4, 6)\n",
    "c = (5, 7, 5, 7, 2)\n",
    "ab = vector_length(a, b)\n",
    "ac = vector_length(a, c)\n",
    "bc = vector_length(b, c)\n",
    "print(ab+bc+ac)"
   ]
  },
  {
   "cell_type": "code",
   "execution_count": 18,
   "metadata": {},
   "outputs": [
    {
     "data": {
      "text/plain": [
       "90.0"
      ]
     },
     "execution_count": 18,
     "metadata": {},
     "output_type": "execute_result"
    }
   ],
   "source": [
    "a = (2, -2, 1)\n",
    "b = (1, 2, 2)\n",
    "angle_deg(a, b)"
   ]
  },
  {
   "cell_type": "markdown",
   "metadata": {},
   "source": [
    "Молекула метана $CH_4$ расположена в пространстве в виде пирамиды, в центре которой находится атом углерода, а в вершинах — атомы водорода. Если вершины разместить в точках с координатами (0,0,0), (1,1,0), (1,0,1) и (0,1,1), то получится правильный тетраэдр, длины всех ребер которого равны $\\sqrt{2}$.  Каким будет косинус угла между любыми двумя лучами, идущими из центра тетраэдра, расположенного в точке (1/2, 1/2, 1/2), к вершинам этого тетраэдра?\n",
    "\n",
    "Ответ дайте с точностью до $10^{−3}$."
   ]
  },
  {
   "cell_type": "code",
   "execution_count": 30,
   "metadata": {},
   "outputs": [
    {
     "data": {
      "text/plain": [
       "-0.333"
      ]
     },
     "execution_count": 30,
     "metadata": {},
     "output_type": "execute_result"
    }
   ],
   "source": [
    "zero = (1/2, 1/2, 1/2)\n",
    "point_1 = (0, 0, 0)\n",
    "point_2 = (1, 1, 0)\n",
    "point_3 = (1, 0, 1)\n",
    "point_4 = (0, 1, 1)\n",
    "\n",
    "_1 = shift_to_zero(zero, point_1)\n",
    "_2 = shift_to_zero(zero, point_2)\n",
    "round(cos(_1, _2), 3)"
   ]
  },
  {
   "cell_type": "code",
   "execution_count": 70,
   "metadata": {},
   "outputs": [
    {
     "name": "stdout",
     "output_type": "stream",
     "text": [
      "0.9999999999999998\n",
      "0.9428090415820632 -0.2357022603955158 -0.2357022603955158\n"
     ]
    }
   ],
   "source": [
    "n = 2**0.5\n",
    "\n",
    "a = 4/3/n\n",
    "b = -(1/3)/n\n",
    "c = -(1/3)/n\n",
    "print(a ** 2 + b ** 2 + c ** 2)\n",
    "print(*[x for x in (a, b, c)])"
   ]
  },
  {
   "cell_type": "code",
   "execution_count": 65,
   "metadata": {},
   "outputs": [],
   "source": []
  },
  {
   "cell_type": "code",
   "execution_count": 64,
   "metadata": {},
   "outputs": [],
   "source": []
  },
  {
   "cell_type": "code",
   "execution_count": 67,
   "metadata": {},
   "outputs": [],
   "source": []
  },
  {
   "cell_type": "code",
   "execution_count": 66,
   "metadata": {},
   "outputs": [
    {
     "name": "stdout",
     "output_type": "stream",
     "text": [
      "0.9999999999999998\n",
      "0.632 -0.131 0.763\n"
     ]
    }
   ],
   "source": []
  },
  {
   "cell_type": "code",
   "execution_count": 49,
   "metadata": {},
   "outputs": [
    {
     "data": {
      "text/plain": [
       "0.7071067811865476"
      ]
     },
     "execution_count": 49,
     "metadata": {},
     "output_type": "execute_result"
    }
   ],
   "source": [
    "2**0.5/2"
   ]
  }
 ],
 "metadata": {
  "kernelspec": {
   "display_name": "Python 3",
   "language": "python",
   "name": "python3"
  },
  "language_info": {
   "codemirror_mode": {
    "name": "ipython",
    "version": 3
   },
   "file_extension": ".py",
   "mimetype": "text/x-python",
   "name": "python",
   "nbconvert_exporter": "python",
   "pygments_lexer": "ipython3",
   "version": "3.6.8"
  }
 },
 "nbformat": 4,
 "nbformat_minor": 2
}
