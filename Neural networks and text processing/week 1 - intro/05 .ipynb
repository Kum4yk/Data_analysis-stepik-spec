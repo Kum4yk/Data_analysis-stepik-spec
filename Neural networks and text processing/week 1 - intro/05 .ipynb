{
 "cells": [
  {
   "cell_type": "markdown",
   "metadata": {},
   "source": [
    "Дано несколько текстов. Преобразуйте их в бинарные вектора.\n",
    "\n",
    "Казнить нельзя, помиловать.\n",
    "\n",
    "Казнить, нельзя помиловать.\n",
    "\n",
    "Нельзя не помиловать.\n",
    "\n",
    "Обязательно освободить.\n",
    "\n",
    "При токенизации текстов был построен следующий словарь: казнить не нельзя обязательно освободить помиловать.\n",
    "\n",
    "Ответ (вектора для приведённых выше текстов) запишите в следующем формате:\n",
    "\n",
    "Одна строка соответствует одному тексту.\n",
    "Значения признаков  следует разделять пробелами\n",
    "Порядок значений признаков должен соответствовать порядку слов в словаре (приведён выше)."
   ]
  },
  {
   "cell_type": "code",
   "execution_count": 21,
   "metadata": {},
   "outputs": [
    {
     "name": "stdout",
     "output_type": "stream",
     "text": [
      "1 0 1 0 0 1\n",
      "1 0 1 0 0 1\n",
      "0 1 1 0 0 1\n",
      "0 0 0 1 1 0\n"
     ]
    }
   ],
   "source": [
    "text = \"\"\"Казнить нельзя, помиловать.\n",
    "Казнить, нельзя помиловать.\n",
    "Нельзя не помиловать.\n",
    "Обязательно освободить.\"\"\".lower().replace('.', '').replace(',', '')\n",
    "\n",
    "words = sorted(list(set(text.split())))\n",
    "arr = [line.split() for line in text.split('\\n')]\n",
    "\n",
    "result = [[int(word in arr[i]) for word in words] for i in range(len(arr))]\n",
    "for line in result:\n",
    "    print(*line)"
   ]
  }
 ],
 "metadata": {
  "kernelspec": {
   "display_name": "Python 3",
   "language": "python",
   "name": "python3"
  },
  "language_info": {
   "codemirror_mode": {
    "name": "ipython",
    "version": 3
   },
   "file_extension": ".py",
   "mimetype": "text/x-python",
   "name": "python",
   "nbconvert_exporter": "python",
   "pygments_lexer": "ipython3",
   "version": "3.7.3"
  }
 },
 "nbformat": 4,
 "nbformat_minor": 2
}
