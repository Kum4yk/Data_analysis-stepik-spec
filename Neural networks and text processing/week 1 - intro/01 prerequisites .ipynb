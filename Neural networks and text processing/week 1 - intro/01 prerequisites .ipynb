{
 "cells": [
  {
   "cell_type": "markdown",
   "metadata": {},
   "source": [
    "Дано два вектора (0.5, 0) и (2, 1). Найдите косинус угла между ними (и запишите, оставив не меньше 4-х знаков после запятой)."
   ]
  },
  {
   "cell_type": "code",
   "execution_count": 3,
   "metadata": {},
   "outputs": [
    {
     "data": {
      "text/plain": [
       "0.8944"
      ]
     },
     "execution_count": 3,
     "metadata": {},
     "output_type": "execute_result"
    }
   ],
   "source": [
    "y1, y2 = (0.5, 0), (2, 1)\n",
    "euclid = lambda y: (y[0]**2 + y[1]**2)**0.5\n",
    "dot = lambda x, y: sum((a * b) for a, b in zip(x, y))\n",
    "round(dot(y1, y2) / (euclid(y1) * euclid(y2)), 4)\n"
   ]
  },
  {
   "cell_type": "markdown",
   "metadata": {},
   "source": [
    "Напишите регулярное выражение, которое выделит в тексте только дробные числа (но не целые!).\n"
   ]
  },
  {
   "cell_type": "code",
   "execution_count": 23,
   "metadata": {},
   "outputs": [
    {
     "name": "stdout",
     "output_type": "stream",
     "text": [
      "-12.1 +0. .1\n"
     ]
    }
   ],
   "source": [
    "### типичные корректные шаблоны: 0.1; .1; 0.\n",
    "\n",
    "import re\n",
    "import sys\n",
    "\n",
    "EVEN_NUMBERS_REGEX = re.compile(r'[+-]?(?:\\d*\\.\\d+|\\d+\\.\\d*)')\n",
    "\n",
    "all_even_numbers = EVEN_NUMBERS_REGEX.findall(\"123 -12.1 +0. .1 .\".strip())\n",
    "print(' '.join(all_even_numbers))"
   ]
  },
  {
   "cell_type": "code",
   "execution_count": null,
   "metadata": {},
   "outputs": [],
   "source": []
  }
 ],
 "metadata": {
  "kernelspec": {
   "display_name": "Python 3",
   "language": "python",
   "name": "python3"
  },
  "language_info": {
   "codemirror_mode": {
    "name": "ipython",
    "version": 3
   },
   "file_extension": ".py",
   "mimetype": "text/x-python",
   "name": "python",
   "nbconvert_exporter": "python",
   "pygments_lexer": "ipython3",
   "version": "3.7.3"
  }
 },
 "nbformat": 4,
 "nbformat_minor": 2
}
