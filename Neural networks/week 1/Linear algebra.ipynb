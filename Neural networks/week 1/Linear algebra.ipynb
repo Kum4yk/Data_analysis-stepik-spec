{
 "cells": [
  {
   "cell_type": "code",
   "execution_count": 1,
   "metadata": {},
   "outputs": [],
   "source": [
    "import numpy as np"
   ]
  },
  {
   "cell_type": "markdown",
   "metadata": {},
   "source": [
    "Теперь давайте попробуем применить наши новые матричные формулы — сначала на игрушечном примере, который мы рассматривали пару видео назад.\n",
    "\n",
    "У нас есть набор данных: знания о длине тормозного пути и скорости для трёх автомобилей.\n",
    "\n",
    "$$ \\begin{pmatrix} D & V \\\\ \\hline 10 & 60 \\\\ 7 & 50 \\\\ 12 & 75\\end{pmatrix} $$\n",
    " \n",
    "Напишите через запятую оценки коэффициентов линейной регрессии $D$ на $V$, т.е. $\\hat{\\beta_0}$, $\\hat{\\beta_1}$ для модели $D=\\beta_0+\\beta_1\\cdot V+\\varepsilon\\cdot D$ с точностью до трёх знаков после точки."
   ]
  },
  {
   "cell_type": "code",
   "execution_count": 63,
   "metadata": {},
   "outputs": [
    {
     "data": {
      "text/plain": [
       "array([[ 1, 10, 60],\n",
       "       [ 1,  7, 50],\n",
       "       [ 1, 12, 75]])"
      ]
     },
     "execution_count": 63,
     "metadata": {},
     "output_type": "execute_result"
    }
   ],
   "source": [
    "data = np.array(\n",
    "    [[1, 10, 60],\n",
    "     [1, 7, 50],\n",
    "     [1, 12, 75]\n",
    "    ]\n",
    ")\n",
    "data"
   ]
  },
  {
   "cell_type": "code",
   "execution_count": 9,
   "metadata": {},
   "outputs": [
    {
     "data": {
      "text/plain": [
       "(array([[ 1, 60],\n",
       "        [ 1, 50],\n",
       "        [ 1, 75]]), array([10,  7, 12]))"
      ]
     },
     "execution_count": 9,
     "metadata": {},
     "output_type": "execute_result"
    }
   ],
   "source": [
    "X = data[:, (0, 2)]\n",
    "y = data[:, 1]\n",
    "X, y"
   ]
  },
  {
   "cell_type": "markdown",
   "metadata": {},
   "source": [
    "$$ X \\cdot \\beta = y \\rightarrow \\beta = (X^T \\cdot X)^{-1} \\cdot X^T \\cdot y$$"
   ]
  },
  {
   "cell_type": "code",
   "execution_count": 16,
   "metadata": {},
   "outputs": [
    {
     "data": {
      "text/plain": [
       "array([-2.34210526,  0.19473684])"
      ]
     },
     "execution_count": 16,
     "metadata": {},
     "output_type": "execute_result"
    }
   ],
   "source": [
    "beta = np.linalg.inv(X.transpose().dot(X)).dot(X.transpose()).dot(y)\n",
    "beta"
   ]
  },
  {
   "cell_type": "code",
   "execution_count": 22,
   "metadata": {},
   "outputs": [
    {
     "name": "stdout",
     "output_type": "stream",
     "text": [
      "-2.3421,0.1947\n"
     ]
    }
   ],
   "source": [
    "print(*np.round(beta, 4), sep=\",\")\n"
   ]
  },
  {
   "cell_type": "code",
   "execution_count": 64,
   "metadata": {},
   "outputs": [
    {
     "data": {
      "text/plain": [
       "array([-2.34210526,  0.19473684])"
      ]
     },
     "execution_count": 64,
     "metadata": {},
     "output_type": "execute_result"
    }
   ],
   "source": [
    "calc_weights(data[:, (0, 2)], data[:, 1])"
   ]
  },
  {
   "cell_type": "markdown",
   "metadata": {},
   "source": [
    "___\n",
    "___"
   ]
  },
  {
   "cell_type": "code",
   "execution_count": 70,
   "metadata": {},
   "outputs": [],
   "source": [
    "def calc_weights(X, y):\n",
    "    return np.linalg.inv(X.transpose().dot(X)).dot(X.transpose()).dot(y)"
   ]
  },
  {
   "cell_type": "markdown",
   "metadata": {},
   "source": [
    "Найдите оптимальные коэффициенты для построения линейной регрессии.\n",
    "\n",
    "На вход вашему решению будет подано название csv-файла, из которого нужно считать данные. Пример можно посмотреть здесь. Загрузить их можно следующим образом:\n",
    "\n",
    "Ваша задача — подсчитать вектор коэффициентов линейной регрессии для предсказания первой переменной (первого столбца данных) по всем остальным. Напомним, что модель линейной регрессии — это $ y = \\beta_0 + \\beta_1 x_1 + \\cdots + \\beta_n x_n$ \n",
    "\n",
    "Напечатайте коэффициенты линейной регрессии, начиная с $\\beta_0$, через пробел. Мы будем проверять совпадения с точностью до 4 знаков после запятой.\n"
   ]
  },
  {
   "cell_type": "code",
   "execution_count": 69,
   "metadata": {},
   "outputs": [
    {
     "name": "stdout",
     "output_type": "stream",
     "text": [
      "\n",
      "-3.6558 -0.2164 0.0737 4.4125 -25.4684 7.1432 -1.3011\n"
     ]
    }
   ],
   "source": [
    "import urllib\n",
    "from urllib import request\n",
    "import numpy as np\n",
    "\n",
    "\n",
    "fname = input() or \"https://stepic.org/media/attachments/lesson/16462/boston_houses.csv\"\n",
    "f = urllib.request.urlopen(fname)  \n",
    "data = np.loadtxt(f, delimiter=',', skiprows=1)\n",
    "y = np.copy(data[:, 0])\n",
    "data[:, 0] = 1\n",
    "\n",
    "print(*np.round(calc_weights(data, y), 4))"
   ]
  }
 ],
 "metadata": {
  "kernelspec": {
   "display_name": "Python 3",
   "language": "python",
   "name": "python3"
  },
  "language_info": {
   "codemirror_mode": {
    "name": "ipython",
    "version": 3
   },
   "file_extension": ".py",
   "mimetype": "text/x-python",
   "name": "python",
   "nbconvert_exporter": "python",
   "pygments_lexer": "ipython3",
   "version": "3.6.5"
  }
 },
 "nbformat": 4,
 "nbformat_minor": 2
}
