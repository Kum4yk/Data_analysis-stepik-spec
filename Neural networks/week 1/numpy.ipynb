{
 "cells": [
  {
   "cell_type": "markdown",
   "metadata": {},
   "source": [
    "Создайте и напечатайте (с помощью функции print) массив класса np.ndarray ширины 4 и высоты 3 с двойками на главной диагонали и единицами на первой диагонали над главной, т.е. воплощение матрицы\n",
    "\n",
    "$$ \\begin{pmatrix}2 & 1 & 0 & 0 \\\\ 0 & 2 & 1 & 0 \\\\ 0 & 0 & 2 & 1 \\end{pmatrix} $$\n",
    "\n"
   ]
  },
  {
   "cell_type": "code",
   "execution_count": 5,
   "metadata": {},
   "outputs": [
    {
     "data": {
      "text/plain": [
       "array([[2., 1., 0., 0.],\n",
       "       [0., 2., 1., 0.],\n",
       "       [0., 0., 2., 1.]])"
      ]
     },
     "execution_count": 5,
     "metadata": {},
     "output_type": "execute_result"
    }
   ],
   "source": [
    "import numpy as np\n",
    "\n",
    "\n",
    "mat = np.eye(3, 4, k=1) + np.eye(3, 4) * 2\n",
    "mat"
   ]
  },
  {
   "cell_type": "markdown",
   "metadata": {},
   "source": [
    "Массив, который нужно было создать в предыдущей задаче, хранится в переменной mat. Превратите его в вертикальный вектор и напечатайте."
   ]
  },
  {
   "cell_type": "code",
   "execution_count": 16,
   "metadata": {},
   "outputs": [
    {
     "data": {
      "text/plain": [
       "array([[2.],\n",
       "       [1.],\n",
       "       [0.],\n",
       "       [0.],\n",
       "       [0.],\n",
       "       [2.],\n",
       "       [1.],\n",
       "       [0.],\n",
       "       [0.],\n",
       "       [0.],\n",
       "       [2.],\n",
       "       [1.]])"
      ]
     },
     "execution_count": 16,
     "metadata": {},
     "output_type": "execute_result"
    }
   ],
   "source": [
    "np.reshape(mat, (12,1))"
   ]
  },
  {
   "cell_type": "markdown",
   "metadata": {},
   "source": [
    "Задача: перемножьте две матрицы!\n",
    "\n",
    "На вход программе подаются две матрицы, каждая в следующем формате: \n",
    "- на первой строке два целых положительных числа $n$ и $m$, разделенных пробелом - размерность матрицы. \n",
    "- В следующей строке находится $n \\cdot m$ целых чисел, разделенных пробелами - элементы матрицы. Подразумевается, что матрица заполняется построчно, то есть первые $m$ чисел - первый ряд матрицы, числа от $m+1$ до $2 \\cdot m$ - второй, и т.д.\n",
    "\n",
    "Напечатайте произведение матриц $XY^T$, если они имеют подходящую форму, или строку \"matrix shapes do not match\", если формы матриц не совпадают должным образом. "
   ]
  },
  {
   "cell_type": "code",
   "execution_count": 26,
   "metadata": {},
   "outputs": [],
   "source": [
    "import numpy as np\n",
    "\n",
    "\n",
    "def get_mats(vals=2):\n",
    "    matrixes = [0] * vals\n",
    "    for i in range(vals):\n",
    "        row, col = map(int, input().split())\n",
    "        matrixes[i] = np.reshape(\n",
    "            list(map(int, input().split())),\n",
    "            (row, col)\n",
    "        )\n",
    "    return matrixes\n",
    "        \n",
    "def mats_prod(X: np.array, Y: np.array):\n",
    "    if X.shape[1] != Y.shape[1]:\n",
    "        return \"matrix shapes do not match\"\n",
    "    \n",
    "    return np.dot(X, Y.transpose())"
   ]
  },
  {
   "cell_type": "code",
   "execution_count": 22,
   "metadata": {},
   "outputs": [
    {
     "name": "stdout",
     "output_type": "stream",
     "text": [
      "2 3\n",
      "8 7 7 14 4 6\n",
      "4 3\n",
      "5 5 1 5 2 6 3 3 9 1 4 6\n"
     ]
    }
   ],
   "source": [
    "X, Y = get_mats()"
   ]
  },
  {
   "cell_type": "code",
   "execution_count": 27,
   "metadata": {},
   "outputs": [
    {
     "data": {
      "text/plain": [
       "array([[ 82,  96, 108,  78],\n",
       "       [ 96, 114, 108,  66]])"
      ]
     },
     "execution_count": 27,
     "metadata": {},
     "output_type": "execute_result"
    }
   ],
   "source": [
    "mats_prod(X, Y)"
   ]
  }
 ],
 "metadata": {
  "kernelspec": {
   "display_name": "Python 3",
   "language": "python",
   "name": "python3"
  },
  "language_info": {
   "codemirror_mode": {
    "name": "ipython",
    "version": 3
   },
   "file_extension": ".py",
   "mimetype": "text/x-python",
   "name": "python",
   "nbconvert_exporter": "python",
   "pygments_lexer": "ipython3",
   "version": "3.6.5"
  }
 },
 "nbformat": 4,
 "nbformat_minor": 2
}
