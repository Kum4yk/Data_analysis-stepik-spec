{
 "cells": [
  {
   "cell_type": "code",
   "execution_count": 142,
   "metadata": {},
   "outputs": [],
   "source": [
    "import numpy as np\n",
    "\n",
    "\n",
    "def search_w(X, y, epochs=None, w_0=None):\n",
    "    \"\"\"\n",
    "    Реализация псевдокода из лекции\n",
    "    \"\"\"\n",
    "    rows, cols = X.shape\n",
    "    w = w_0 or np.zeros((cols, 1))\n",
    "    perfect=False\n",
    "    count = 0\n",
    "    \n",
    "    while not perfect:\n",
    "        if count == epochs:\n",
    "            break\n",
    "        count += 1\n",
    "        perfect = True\n",
    "        \n",
    "        for i in range(rows):\n",
    "            pred = np.dot(X[i, :], w)[0] > 0\n",
    "            target = y[i, :][0]\n",
    "            # print(f\"Предсказываем: {pred}, ожидаем {target}\\n\")\n",
    "            \n",
    "            e = X[i, :].reshape(cols, 1) \n",
    "            if pred != target:\n",
    "                perfect = False\n",
    "                sign = 1 if pred == 0 else -1\n",
    "                w = w + sign * e\n",
    "            # print(\"Матрица весов:\")\n",
    "            # print(w)\n",
    "            # print(\"---------- \\n\")\n",
    "    return w"
   ]
  },
  {
   "cell_type": "markdown",
   "metadata": {},
   "source": [
    "\n",
    "Мы погуляли в фруктовом саду и собрали следующие данные про несколько обнаруженных там фруктов:\n",
    "\n",
    "$$ \\begin{array}{ c | c c c} & \\text{желтизна} & \\text{симметричность} & \\text{это груша?} \\\\\\hline 1 & 1 & 0.3 & \\text{да} \\\\ 2 & 0.4 & 0.5 & \\text{да} \\\\ 3 & 0.7 & 0.8 & \\text{нет} \\end{array} $$\n",
    " \n",
    "Пусть у нас есть перцептрон с весами (0, 0) и смещением 0. \n",
    "\n",
    "Обучите его на приведённых данных различать груши и не груши (пока не надо обучать до сходимости: просто примените обучающее правило последовательно по одному разу на каждом примере, всего у вас получится 3 последовательных применения обучающего правила). \n",
    "\n",
    "Напишите в ответе через запятую получившиеся у вас смещение, вес для желтизны фрукта и вес для его симметричности (только итоговые, не надо писать результаты каждого шага)."
   ]
  },
  {
   "cell_type": "code",
   "execution_count": 144,
   "metadata": {},
   "outputs": [
    {
     "name": "stdout",
     "output_type": "stream",
     "text": [
      "[[1.  1.  0.3]\n",
      " [1.  0.4 0.5]\n",
      " [1.  0.7 0.8]]\n",
      "[[1]\n",
      " [1]\n",
      " [0]]\n"
     ]
    }
   ],
   "source": [
    "X = np.array(\n",
    "    [[1, 1, 0.3],\n",
    "     [1, 0.4, 0.5],\n",
    "     [1, 0.7, 0.8]\n",
    "    ]\n",
    ")\n",
    "y = np.array([1, 1, 0]).reshape((3, 1))\n",
    "print(X)\n",
    "print(y)"
   ]
  },
  {
   "cell_type": "code",
   "execution_count": 145,
   "metadata": {
    "scrolled": false
   },
   "outputs": [
    {
     "name": "stdout",
     "output_type": "stream",
     "text": [
      "1\n"
     ]
    },
    {
     "data": {
      "text/plain": [
       "array([[ 0. ],\n",
       "       [ 0.3],\n",
       "       [-0.5]])"
      ]
     },
     "execution_count": 145,
     "metadata": {},
     "output_type": "execute_result"
    }
   ],
   "source": [
    "search_w(X, y, 1)"
   ]
  },
  {
   "cell_type": "code",
   "execution_count": 126,
   "metadata": {},
   "outputs": [
    {
     "name": "stdout",
     "output_type": "stream",
     "text": [
      "0.0,0.3,-0.5\n"
     ]
    }
   ],
   "source": [
    "print(*np.round(res.flatten(), 4), sep=\",\")"
   ]
  }
 ],
 "metadata": {
  "kernelspec": {
   "display_name": "Python 3",
   "language": "python",
   "name": "python3"
  },
  "language_info": {
   "codemirror_mode": {
    "name": "ipython",
    "version": 3
   },
   "file_extension": ".py",
   "mimetype": "text/x-python",
   "name": "python",
   "nbconvert_exporter": "python",
   "pygments_lexer": "ipython3",
   "version": "3.6.5"
  }
 },
 "nbformat": 4,
 "nbformat_minor": 2
}
