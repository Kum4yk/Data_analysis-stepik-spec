{
 "cells": [
  {
   "cell_type": "markdown",
   "metadata": {},
   "source": [
    "1) Вновь вернемся к данным mtcars. Рассчитайте среднее значение времени разгона (qsec) для автомобилей, число цилиндров (cyl) у которых не равняется 3 и показатель количества миль на галлон топлива (mpg) больше 20.\n",
    "\n",
    "Получившийся результат (среднее значение) сохраните в переменную result.\n",
    "\n"
   ]
  },
  {
   "cell_type": "code",
   "execution_count": 6,
   "metadata": {
    "scrolled": true
   },
   "outputs": [
    {
     "data": {
      "text/html": [
       "18.8164285714286"
      ],
      "text/latex": [
       "18.8164285714286"
      ],
      "text/markdown": [
       "18.8164285714286"
      ],
      "text/plain": [
       "[1] 18.81643"
      ]
     },
     "metadata": {},
     "output_type": "display_data"
    }
   ],
   "source": [
    "data  <- mtcars\n",
    "result  <- mean(data$qsec[data$cyl != 3 & data$mpg > 20])\n",
    "result"
   ]
  },
  {
   "cell_type": "markdown",
   "metadata": {},
   "source": [
    "___\n",
    "2) При помощи функции aggregate рассчитайте стандартное отклонение переменной hp (лошадиные силы) и переменной disp (вместимости двигателя)  у машин с автоматической и ручной коробкой передач. \n",
    "\n",
    "Полученные результаты (результаты выполнения функции aggregate) сохраните в переменную descriptions_stat."
   ]
  },
  {
   "cell_type": "code",
   "execution_count": 14,
   "metadata": {},
   "outputs": [
    {
     "data": {
      "text/html": [
       "<table>\n",
       "<thead><tr><th scope=col>am</th><th scope=col>hp</th><th scope=col>disp</th></tr></thead>\n",
       "<tbody>\n",
       "\t<tr><td>0        </td><td>53.90820 </td><td>110.17165</td></tr>\n",
       "\t<tr><td>1        </td><td>84.06232 </td><td> 87.20399</td></tr>\n",
       "</tbody>\n",
       "</table>\n"
      ],
      "text/latex": [
       "\\begin{tabular}{r|lll}\n",
       " am & hp & disp\\\\\n",
       "\\hline\n",
       "\t 0         & 53.90820  & 110.17165\\\\\n",
       "\t 1         & 84.06232  &  87.20399\\\\\n",
       "\\end{tabular}\n"
      ],
      "text/markdown": [
       "\n",
       "am | hp | disp | \n",
       "|---|---|\n",
       "| 0         | 53.90820  | 110.17165 | \n",
       "| 1         | 84.06232  |  87.20399 | \n",
       "\n",
       "\n"
      ],
      "text/plain": [
       "  am hp       disp     \n",
       "1 0  53.90820 110.17165\n",
       "2 1  84.06232  87.20399"
      ]
     },
     "metadata": {},
     "output_type": "display_data"
    }
   ],
   "source": [
    "data  <- mtcars\n",
    "# Transmission (0 = automatic, 1 = manual)\n",
    "descriptions_stat  <-  aggregate(cbind(hp, disp)  ~ am, data, sd)\n",
    "descriptions_stat"
   ]
  },
  {
   "cell_type": "markdown",
   "metadata": {},
   "source": [
    "___\n",
    "3) Воспользуемся встроенными данными airquality. В новую переменную сохраните subset исходных данных, оставив наблюдения только для месяцев 7, 8 и 9.\n",
    "\n",
    "При помощи функции aggregate рассчитайте количество непропущенных наблюдений по переменной Ozone в 7, 8 и 9 месяце. Для определения количества наблюдений используйте функцию length(). \n",
    "\n",
    "Результат выполнения функции aggregate сохраните в переменную result.\n",
    "\n",
    "Подсказки:\n",
    "\n",
    "1. Не забудьте сделать subset, чтобы отобрать наблюдения только по нужным месяцам, вам может пригодиться следующая конструкция:\n",
    "\n",
    "> x <- 5  \n",
    "> x %in% c(3, 4, 5)  \n",
    "> [1] TRUE\n",
    "\n",
    "2. Для подсчета числа непропущенных наблюдений воспользуйтесь записью с помощью формулы, при которой пропущенные значения не учитываются:\n",
    "aggregate(y ~ x + z , data, FUN)\n",
    "\n",
    "\n"
   ]
  },
  {
   "cell_type": "code",
   "execution_count": 7,
   "metadata": {
    "scrolled": true
   },
   "outputs": [
    {
     "data": {
      "text/html": [
       "<table>\n",
       "<thead><tr><th scope=col>Ozone</th><th scope=col>Solar.R</th><th scope=col>Wind</th><th scope=col>Temp</th><th scope=col>Month</th><th scope=col>Day</th></tr></thead>\n",
       "<tbody>\n",
       "\t<tr><td>41  </td><td>190 </td><td> 7.4</td><td>67  </td><td>5   </td><td>1   </td></tr>\n",
       "\t<tr><td>36  </td><td>118 </td><td> 8.0</td><td>72  </td><td>5   </td><td>2   </td></tr>\n",
       "\t<tr><td>12  </td><td>149 </td><td>12.6</td><td>74  </td><td>5   </td><td>3   </td></tr>\n",
       "\t<tr><td>18  </td><td>313 </td><td>11.5</td><td>62  </td><td>5   </td><td>4   </td></tr>\n",
       "\t<tr><td>NA  </td><td> NA </td><td>14.3</td><td>56  </td><td>5   </td><td>5   </td></tr>\n",
       "\t<tr><td>28  </td><td> NA </td><td>14.9</td><td>66  </td><td>5   </td><td>6   </td></tr>\n",
       "</tbody>\n",
       "</table>\n"
      ],
      "text/latex": [
       "\\begin{tabular}{r|llllll}\n",
       " Ozone & Solar.R & Wind & Temp & Month & Day\\\\\n",
       "\\hline\n",
       "\t 41   & 190  &  7.4 & 67   & 5    & 1   \\\\\n",
       "\t 36   & 118  &  8.0 & 72   & 5    & 2   \\\\\n",
       "\t 12   & 149  & 12.6 & 74   & 5    & 3   \\\\\n",
       "\t 18   & 313  & 11.5 & 62   & 5    & 4   \\\\\n",
       "\t NA   &  NA  & 14.3 & 56   & 5    & 5   \\\\\n",
       "\t 28   &  NA  & 14.9 & 66   & 5    & 6   \\\\\n",
       "\\end{tabular}\n"
      ],
      "text/markdown": [
       "\n",
       "Ozone | Solar.R | Wind | Temp | Month | Day | \n",
       "|---|---|---|---|---|---|\n",
       "| 41   | 190  |  7.4 | 67   | 5    | 1    | \n",
       "| 36   | 118  |  8.0 | 72   | 5    | 2    | \n",
       "| 12   | 149  | 12.6 | 74   | 5    | 3    | \n",
       "| 18   | 313  | 11.5 | 62   | 5    | 4    | \n",
       "| NA   |  NA  | 14.3 | 56   | 5    | 5    | \n",
       "| 28   |  NA  | 14.9 | 66   | 5    | 6    | \n",
       "\n",
       "\n"
      ],
      "text/plain": [
       "  Ozone Solar.R Wind Temp Month Day\n",
       "1 41    190      7.4 67   5     1  \n",
       "2 36    118      8.0 72   5     2  \n",
       "3 12    149     12.6 74   5     3  \n",
       "4 18    313     11.5 62   5     4  \n",
       "5 NA     NA     14.3 56   5     5  \n",
       "6 28     NA     14.9 66   5     6  "
      ]
     },
     "metadata": {},
     "output_type": "display_data"
    }
   ],
   "source": [
    "head(airquality)\n",
    "?airquality"
   ]
  },
  {
   "cell_type": "code",
   "execution_count": 22,
   "metadata": {},
   "outputs": [
    {
     "data": {
      "text/html": [
       "<table>\n",
       "<thead><tr><th scope=col>Month</th><th scope=col>Ozone</th></tr></thead>\n",
       "<tbody>\n",
       "\t<tr><td>7 </td><td>26</td></tr>\n",
       "\t<tr><td>8 </td><td>26</td></tr>\n",
       "\t<tr><td>9 </td><td>29</td></tr>\n",
       "</tbody>\n",
       "</table>\n"
      ],
      "text/latex": [
       "\\begin{tabular}{r|ll}\n",
       " Month & Ozone\\\\\n",
       "\\hline\n",
       "\t 7  & 26\\\\\n",
       "\t 8  & 26\\\\\n",
       "\t 9  & 29\\\\\n",
       "\\end{tabular}\n"
      ],
      "text/markdown": [
       "\n",
       "Month | Ozone | \n",
       "|---|---|---|\n",
       "| 7  | 26 | \n",
       "| 8  | 26 | \n",
       "| 9  | 29 | \n",
       "\n",
       "\n"
      ],
      "text/plain": [
       "  Month Ozone\n",
       "1 7     26   \n",
       "2 8     26   \n",
       "3 9     29   "
      ]
     },
     "metadata": {},
     "output_type": "display_data"
    }
   ],
   "source": [
    "data  <- subset(airquality, Month %in% c(7,8,9))\n",
    "aggregate(Ozone ~ Month, data, length)\n"
   ]
  },
  {
   "cell_type": "markdown",
   "metadata": {},
   "source": [
    "___\n",
    "4) Примените функцию describeBy к количественным переменным данных airquality, группируя наблюдения по переменной Month.  Чему равен коэффициент асимметрии (skew) переменной Wind в восьмом месяце?\n",
    "\n",
    "В графу с ответом требуется ввести только число. Десятичный разделитель - запятая: например 12,6"
   ]
  },
  {
   "cell_type": "code",
   "execution_count": 31,
   "metadata": {},
   "outputs": [
    {
     "data": {
      "text/html": [
       "0.0354958070033909"
      ],
      "text/latex": [
       "0.0354958070033909"
      ],
      "text/markdown": [
       "0.0354958070033909"
      ],
      "text/plain": [
       "[1] 0.03549581"
      ]
     },
     "metadata": {},
     "output_type": "display_data"
    },
    {
     "data": {
      "text/html": [
       "<table>\n",
       "<thead><tr><th></th><th scope=col>vars</th><th scope=col>n</th><th scope=col>mean</th><th scope=col>sd</th><th scope=col>median</th><th scope=col>trimmed</th><th scope=col>mad</th><th scope=col>min</th><th scope=col>max</th><th scope=col>range</th><th scope=col>skew</th><th scope=col>kurtosis</th><th scope=col>se</th></tr></thead>\n",
       "<tbody>\n",
       "\t<tr><th scope=row>Ozone</th><td>1          </td><td>26         </td><td> 59.961538 </td><td>39.681210  </td><td> 52.0      </td><td> 56.86364  </td><td>40.77150   </td><td> 9.0       </td><td>168.0      </td><td>159.0      </td><td> 0.78795473</td><td> 0.0450299 </td><td> 7.7821256 </td></tr>\n",
       "\t<tr><th scope=row>Solar.R</th><td>2          </td><td>28         </td><td>171.857143 </td><td>76.834943  </td><td>197.5      </td><td>175.83333  </td><td>67.45830   </td><td>24.0       </td><td>273.0      </td><td>249.0      </td><td>-0.55824698</td><td>-1.1738285 </td><td>14.5204394 </td></tr>\n",
       "\t<tr><th scope=row>Wind</th><td>3          </td><td>31         </td><td>  8.793548 </td><td> 3.225930  </td><td>  8.6      </td><td>  8.77200  </td><td> 3.40998   </td><td> 2.3       </td><td> 15.5      </td><td> 13.2      </td><td> 0.03549581</td><td>-0.6948058 </td><td> 0.5793941 </td></tr>\n",
       "\t<tr><th scope=row>Temp</th><td>4          </td><td>31         </td><td> 83.967742 </td><td> 6.585256  </td><td> 82.0      </td><td> 83.72000  </td><td> 5.93040   </td><td>72.0       </td><td> 97.0      </td><td> 25.0      </td><td> 0.29605407</td><td>-0.9667322 </td><td> 1.1827468 </td></tr>\n",
       "\t<tr><th scope=row>Month</th><td>5          </td><td>31         </td><td>  8.000000 </td><td> 0.000000  </td><td>  8.0      </td><td>  8.00000  </td><td> 0.00000   </td><td> 8.0       </td><td>  8.0      </td><td>  0.0      </td><td>        NaN</td><td>       NaN </td><td> 0.0000000 </td></tr>\n",
       "\t<tr><th scope=row>Day</th><td>6          </td><td>31         </td><td> 16.000000 </td><td> 9.092121  </td><td> 16.0      </td><td> 16.00000  </td><td>11.86080   </td><td> 1.0       </td><td> 31.0      </td><td> 30.0      </td><td> 0.00000000</td><td>-1.3165973 </td><td> 1.6329932 </td></tr>\n",
       "</tbody>\n",
       "</table>\n"
      ],
      "text/latex": [
       "\\begin{tabular}{r|lllllllllllll}\n",
       "  & vars & n & mean & sd & median & trimmed & mad & min & max & range & skew & kurtosis & se\\\\\n",
       "\\hline\n",
       "\tOzone & 1           & 26          &  59.961538  & 39.681210   &  52.0       &  56.86364   & 40.77150    &  9.0        & 168.0       & 159.0       &  0.78795473 &  0.0450299  &  7.7821256 \\\\\n",
       "\tSolar.R & 2           & 28          & 171.857143  & 76.834943   & 197.5       & 175.83333   & 67.45830    & 24.0        & 273.0       & 249.0       & -0.55824698 & -1.1738285  & 14.5204394 \\\\\n",
       "\tWind & 3           & 31          &   8.793548  &  3.225930   &   8.6       &   8.77200   &  3.40998    &  2.3        &  15.5       &  13.2       &  0.03549581 & -0.6948058  &  0.5793941 \\\\\n",
       "\tTemp & 4           & 31          &  83.967742  &  6.585256   &  82.0       &  83.72000   &  5.93040    & 72.0        &  97.0       &  25.0       &  0.29605407 & -0.9667322  &  1.1827468 \\\\\n",
       "\tMonth & 5           & 31          &   8.000000  &  0.000000   &   8.0       &   8.00000   &  0.00000    &  8.0        &   8.0       &   0.0       &         NaN &        NaN  &  0.0000000 \\\\\n",
       "\tDay & 6           & 31          &  16.000000  &  9.092121   &  16.0       &  16.00000   & 11.86080    &  1.0        &  31.0       &  30.0       &  0.00000000 & -1.3165973  &  1.6329932 \\\\\n",
       "\\end{tabular}\n"
      ],
      "text/markdown": [
       "\n",
       "| <!--/--> | vars | n | mean | sd | median | trimmed | mad | min | max | range | skew | kurtosis | se | \n",
       "|---|---|---|---|---|---|\n",
       "| Ozone | 1           | 26          |  59.961538  | 39.681210   |  52.0       |  56.86364   | 40.77150    |  9.0        | 168.0       | 159.0       |  0.78795473 |  0.0450299  |  7.7821256  | \n",
       "| Solar.R | 2           | 28          | 171.857143  | 76.834943   | 197.5       | 175.83333   | 67.45830    | 24.0        | 273.0       | 249.0       | -0.55824698 | -1.1738285  | 14.5204394  | \n",
       "| Wind | 3           | 31          |   8.793548  |  3.225930   |   8.6       |   8.77200   |  3.40998    |  2.3        |  15.5       |  13.2       |  0.03549581 | -0.6948058  |  0.5793941  | \n",
       "| Temp | 4           | 31          |  83.967742  |  6.585256   |  82.0       |  83.72000   |  5.93040    | 72.0        |  97.0       |  25.0       |  0.29605407 | -0.9667322  |  1.1827468  | \n",
       "| Month | 5           | 31          |   8.000000  |  0.000000   |   8.0       |   8.00000   |  0.00000    |  8.0        |   8.0       |   0.0       |         NaN |        NaN  |  0.0000000  | \n",
       "| Day | 6           | 31          |  16.000000  |  9.092121   |  16.0       |  16.00000   | 11.86080    |  1.0        |  31.0       |  30.0       |  0.00000000 | -1.3165973  |  1.6329932  | \n",
       "\n",
       "\n"
      ],
      "text/plain": [
       "        vars n  mean       sd        median trimmed   mad      min  max   range\n",
       "Ozone   1    26  59.961538 39.681210  52.0   56.86364 40.77150  9.0 168.0 159.0\n",
       "Solar.R 2    28 171.857143 76.834943 197.5  175.83333 67.45830 24.0 273.0 249.0\n",
       "Wind    3    31   8.793548  3.225930   8.6    8.77200  3.40998  2.3  15.5  13.2\n",
       "Temp    4    31  83.967742  6.585256  82.0   83.72000  5.93040 72.0  97.0  25.0\n",
       "Month   5    31   8.000000  0.000000   8.0    8.00000  0.00000  8.0   8.0   0.0\n",
       "Day     6    31  16.000000  9.092121  16.0   16.00000 11.86080  1.0  31.0  30.0\n",
       "        skew        kurtosis   se        \n",
       "Ozone    0.78795473  0.0450299  7.7821256\n",
       "Solar.R -0.55824698 -1.1738285 14.5204394\n",
       "Wind     0.03549581 -0.6948058  0.5793941\n",
       "Temp     0.29605407 -0.9667322  1.1827468\n",
       "Month           NaN        NaN  0.0000000\n",
       "Day      0.00000000 -1.3165973  1.6329932"
      ]
     },
     "metadata": {},
     "output_type": "display_data"
    }
   ],
   "source": [
    "some  <- subset(airquality, Month == 8)\n",
    "skew(some$Wind)\n",
    "describe(some)"
   ]
  },
  {
   "cell_type": "markdown",
   "metadata": {},
   "source": [
    "___\n",
    "5) Обратимся к встроенным данным iris. Соотнесите значения стандартного отклонения переменных."
   ]
  },
  {
   "cell_type": "code",
   "execution_count": 103,
   "metadata": {},
   "outputs": [
    {
     "data": {
      "text/html": [
       "<table>\n",
       "<thead><tr><th></th><th scope=col>sd</th></tr></thead>\n",
       "<tbody>\n",
       "\t<tr><th scope=row>Sepal.Length</th><td>0.8280661</td></tr>\n",
       "\t<tr><th scope=row>Sepal.Width</th><td>0.4358663</td></tr>\n",
       "\t<tr><th scope=row>Petal.Length</th><td>1.7652982</td></tr>\n",
       "\t<tr><th scope=row>Petal.Width</th><td>0.7622377</td></tr>\n",
       "\t<tr><th scope=row>Species*</th><td>0.8192319</td></tr>\n",
       "</tbody>\n",
       "</table>\n"
      ],
      "text/latex": [
       "\\begin{tabular}{r|l}\n",
       "  & sd\\\\\n",
       "\\hline\n",
       "\tSepal.Length & 0.8280661\\\\\n",
       "\tSepal.Width & 0.4358663\\\\\n",
       "\tPetal.Length & 1.7652982\\\\\n",
       "\tPetal.Width & 0.7622377\\\\\n",
       "\tSpecies* & 0.8192319\\\\\n",
       "\\end{tabular}\n"
      ],
      "text/markdown": [
       "\n",
       "| <!--/--> | sd | \n",
       "|---|---|---|---|---|\n",
       "| Sepal.Length | 0.8280661 | \n",
       "| Sepal.Width | 0.4358663 | \n",
       "| Petal.Length | 1.7652982 | \n",
       "| Petal.Width | 0.7622377 | \n",
       "| Species* | 0.8192319 | \n",
       "\n",
       "\n"
      ],
      "text/plain": [
       "             sd       \n",
       "Sepal.Length 0.8280661\n",
       "Sepal.Width  0.4358663\n",
       "Petal.Length 1.7652982\n",
       "Petal.Width  0.7622377\n",
       "Species*     0.8192319"
      ]
     },
     "metadata": {},
     "output_type": "display_data"
    }
   ],
   "source": [
    "data  <- iris\n",
    "describe(data)[\"sd\"]\n",
    "\n"
   ]
  },
  {
   "cell_type": "markdown",
   "metadata": {},
   "source": [
    "___\n",
    "6) В данных iris расположите по убыванию значения медиан количественных переменных в группе virginica."
   ]
  },
  {
   "cell_type": "code",
   "execution_count": 82,
   "metadata": {},
   "outputs": [
    {
     "data": {
      "text/html": [
       "<table>\n",
       "<thead><tr><th scope=col>data$Species</th><th scope=col>Sepal.Length</th><th scope=col>Petal.Length</th><th scope=col>Sepal.Width</th><th scope=col>Species</th><th scope=col>Petal.Width</th></tr></thead>\n",
       "<tbody>\n",
       "\t<tr><td>virginica</td><td>6.5      </td><td>5.55     </td><td>3        </td><td>3        </td><td>2        </td></tr>\n",
       "</tbody>\n",
       "</table>\n"
      ],
      "text/latex": [
       "\\begin{tabular}{r|llllll}\n",
       " data\\$Species & Sepal.Length & Petal.Length & Sepal.Width & Species & Petal.Width\\\\\n",
       "\\hline\n",
       "\t virginica & 6.5       & 5.55      & 3         & 3         & 2        \\\\\n",
       "\\end{tabular}\n"
      ],
      "text/markdown": [
       "\n",
       "data$Species | Sepal.Length | Petal.Length | Sepal.Width | Species | Petal.Width | \n",
       "|---|\n",
       "| virginica | 6.5       | 5.55      | 3         | 3         | 2         | \n",
       "\n",
       "\n"
      ],
      "text/plain": [
       "  data$Species Sepal.Length Petal.Length Sepal.Width Species Petal.Width\n",
       "1 virginica    6.5          5.55         3           3       2          "
      ]
     },
     "metadata": {},
     "output_type": "display_data"
    }
   ],
   "source": [
    "data  <- subset(iris, Species == \"virginica\")\n",
    "some  <-  aggregate(. ~ data$Species, data, median)\n",
    "sort(some, decreasing =  T)"
   ]
  },
  {
   "cell_type": "markdown",
   "metadata": {},
   "source": [
    "___\n",
    "7) В переменной my_vector сохранен вектор с пропущенными значениями. Вам нужно создать новый вектор fixed_vector, в котором все пропущенные значения вектора my_vector будут заменены на среднее значение по имеющимся наблюдениям.\n",
    "\n",
    "При этом исходный вектор оставьте без изменений!\n",
    "\n",
    "Напоминаю, переменная my_vector уже создана, сразу начинайте работать с ней. Перед тем, как сдавать решение, вы можете потренироваться на различных примерах. Ниже небольшой код, который может создать случайный вектор (выборка из нормального распределения) с пропущенными значениями.\n",
    "\n",
    "\n",
    "my_vector <- rnorm(30)\n",
    "\n",
    "my_vector[sample(1:30, 10)] <- NA # на десять случайных позиций поместим NA\n",
    "\n",
    "\n",
    "Задача для самостоятельной работы:\n",
    "\n",
    "Изучите справку по функции replace. Вызвать справку можно исполнив команду:\n",
    "\n",
    "?replace\n",
    "Попробуйте решить это задание при помощи этой функции."
   ]
  },
  {
   "cell_type": "code",
   "execution_count": 124,
   "metadata": {},
   "outputs": [
    {
     "data": {
      "text/html": [
       "<ol class=list-inline>\n",
       "\t<li>-0.599732262658405</li>\n",
       "\t<li>0.474514168646913</li>\n",
       "\t<li>-0.157932893497411</li>\n",
       "\t<li>0.266642351291288</li>\n",
       "\t<li>1.28903963644431</li>\n",
       "\t<li>0.210942467047392</li>\n",
       "\t<li>0.334454546556881</li>\n",
       "\t<li>-0.157932893497411</li>\n",
       "\t<li>-0.157932893497411</li>\n",
       "\t<li>-0.157932893497411</li>\n",
       "\t<li>-0.157932893497411</li>\n",
       "\t<li>0.048252518183608</li>\n",
       "\t<li>-0.117045051147443</li>\n",
       "\t<li>-0.560973928826719</li>\n",
       "\t<li>-0.97122490613759</li>\n",
       "\t<li>-0.157932893497411</li>\n",
       "\t<li>0.184934768942528</li>\n",
       "\t<li>-0.157932893497411</li>\n",
       "\t<li>-0.157932893497411</li>\n",
       "\t<li>-0.157932893497411</li>\n",
       "\t<li>-0.157932893497411</li>\n",
       "\t<li>0.526377718935702</li>\n",
       "\t<li>-0.86412703196124</li>\n",
       "\t<li>-0.975334118276604</li>\n",
       "\t<li>0.68571410366679</li>\n",
       "\t<li>-1.39291150983013</li>\n",
       "\t<li>-0.136301132109238</li>\n",
       "\t<li>-0.335939111383435</li>\n",
       "\t<li>-0.774183022678907</li>\n",
       "\t<li>-0.451758074653913</li>\n",
       "</ol>\n"
      ],
      "text/latex": [
       "\\begin{enumerate*}\n",
       "\\item -0.599732262658405\n",
       "\\item 0.474514168646913\n",
       "\\item -0.157932893497411\n",
       "\\item 0.266642351291288\n",
       "\\item 1.28903963644431\n",
       "\\item 0.210942467047392\n",
       "\\item 0.334454546556881\n",
       "\\item -0.157932893497411\n",
       "\\item -0.157932893497411\n",
       "\\item -0.157932893497411\n",
       "\\item -0.157932893497411\n",
       "\\item 0.048252518183608\n",
       "\\item -0.117045051147443\n",
       "\\item -0.560973928826719\n",
       "\\item -0.97122490613759\n",
       "\\item -0.157932893497411\n",
       "\\item 0.184934768942528\n",
       "\\item -0.157932893497411\n",
       "\\item -0.157932893497411\n",
       "\\item -0.157932893497411\n",
       "\\item -0.157932893497411\n",
       "\\item 0.526377718935702\n",
       "\\item -0.86412703196124\n",
       "\\item -0.975334118276604\n",
       "\\item 0.68571410366679\n",
       "\\item -1.39291150983013\n",
       "\\item -0.136301132109238\n",
       "\\item -0.335939111383435\n",
       "\\item -0.774183022678907\n",
       "\\item -0.451758074653913\n",
       "\\end{enumerate*}\n"
      ],
      "text/markdown": [
       "1. -0.599732262658405\n",
       "2. 0.474514168646913\n",
       "3. -0.157932893497411\n",
       "4. 0.266642351291288\n",
       "5. 1.28903963644431\n",
       "6. 0.210942467047392\n",
       "7. 0.334454546556881\n",
       "8. -0.157932893497411\n",
       "9. -0.157932893497411\n",
       "10. -0.157932893497411\n",
       "11. -0.157932893497411\n",
       "12. 0.048252518183608\n",
       "13. -0.117045051147443\n",
       "14. -0.560973928826719\n",
       "15. -0.97122490613759\n",
       "16. -0.157932893497411\n",
       "17. 0.184934768942528\n",
       "18. -0.157932893497411\n",
       "19. -0.157932893497411\n",
       "20. -0.157932893497411\n",
       "21. -0.157932893497411\n",
       "22. 0.526377718935702\n",
       "23. -0.86412703196124\n",
       "24. -0.975334118276604\n",
       "25. 0.68571410366679\n",
       "26. -1.39291150983013\n",
       "27. -0.136301132109238\n",
       "28. -0.335939111383435\n",
       "29. -0.774183022678907\n",
       "30. -0.451758074653913\n",
       "\n",
       "\n"
      ],
      "text/plain": [
       " [1] -0.59973226  0.47451417 -0.15793289  0.26664235  1.28903964  0.21094247\n",
       " [7]  0.33445455 -0.15793289 -0.15793289 -0.15793289 -0.15793289  0.04825252\n",
       "[13] -0.11704505 -0.56097393 -0.97122491 -0.15793289  0.18493477 -0.15793289\n",
       "[19] -0.15793289 -0.15793289 -0.15793289  0.52637772 -0.86412703 -0.97533412\n",
       "[25]  0.68571410 -1.39291151 -0.13630113 -0.33593911 -0.77418302 -0.45175807"
      ]
     },
     "metadata": {},
     "output_type": "display_data"
    }
   ],
   "source": [
    "my_vector <- rnorm(30)\n",
    "my_vector[sample(1:30, 10)] <- NA\n",
    "fixed_vector <- my_vector\n",
    "fixed_vector [is.na(fixed_vector )]  <- mean(my_vector, na.rm = T)\n",
    "\n",
    "fixed_vector <- replace(my_vector, is.na(my_vector), mean(my_vector, na.rm = T))\n"
   ]
  }
 ],
 "metadata": {
  "kernelspec": {
   "display_name": "R",
   "language": "R",
   "name": "ir"
  },
  "language_info": {
   "codemirror_mode": "r",
   "file_extension": ".r",
   "mimetype": "text/x-r-source",
   "name": "R",
   "pygments_lexer": "r",
   "version": "3.5.1"
  }
 },
 "nbformat": 4,
 "nbformat_minor": 2
}
