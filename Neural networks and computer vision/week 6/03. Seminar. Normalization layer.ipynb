{
 "cells": [
  {
   "cell_type": "markdown",
   "metadata": {},
   "source": [
    "В данном шаге вам требуется реализовать функцию батч-нормализации без использования стандартной функции со следующими упрощениями:\n",
    "\n",
    "- Параметр Бета принимается равным 0.\n",
    "- Параметр Гамма принимается равным 1.\n",
    "- Функция должна корректно работать только на этапе обучения.\n",
    "- Вход имеет размерность число элементов в батче * длина каждого инстанса."
   ]
  },
  {
   "cell_type": "code",
   "execution_count": 18,
   "metadata": {},
   "outputs": [],
   "source": [
    "import numpy as np\n",
    "import torch\n",
    "import torch.nn as nn\n",
    "\n",
    "def custom_batch_norm1d(input_tensor, eps):\n",
    "    mean = torch.mean(input_tensor, dim=0)\n",
    "    var = torch.var(input_tensor, dim=0, unbiased=False)\n",
    "    sqrt = torch.sqrt(var + eps)\n",
    "    return (input_tensor - mean) / sqrt\n",
    "    \n",
    "\n",
    "\n",
    "input_tensor = torch.Tensor([[0.0, 0, 1, 0, 2], [0, 1, 1, 0, 10]])\n",
    "batch_norm = nn.BatchNorm1d(input_tensor.shape[1], affine=False)"
   ]
  },
  {
   "cell_type": "code",
   "execution_count": null,
   "metadata": {},
   "outputs": [],
   "source": [
    "import numpy as np\n",
    "all_correct = True\n",
    "for eps_power in range(10):\n",
    "    eps = np.power(10., -eps_power)\n",
    "    batch_norm.eps = eps\n",
    "    batch_norm_out = batch_norm(input_tensor)\n",
    "    custom_batch_norm_out = custom_batch_norm1d(input_tensor, eps)\n",
    "\n",
    "    all_correct &= torch.allclose(batch_norm_out, custom_batch_norm_out)\n",
    "    all_correct &= batch_norm_out.shape == custom_batch_norm_out.shape\n",
    "print(all_correct)"
   ]
  },
  {
   "cell_type": "markdown",
   "metadata": {},
   "source": [
    "___\n",
    "___\n",
    "\n",
    "\n",
    "Немного обобщим функцию с предыдущего шага - добавим возможность задавать параметры Бета и Гамма.\n",
    "\n",
    "На данном шаге вам требуется реализовать функцию батч-нормализации без использования стандартной функции со следующими упрощениями:\n",
    "\n",
    "- Функция должна корректно работать только на этапе обучения.\n",
    "- Вход имеет размерность число элементов в батче * длина каждого инстанса."
   ]
  },
  {
   "cell_type": "code",
   "execution_count": null,
   "metadata": {},
   "outputs": [],
   "source": [
    "import torch\n",
    "import torch.nn as nn\n",
    "\n",
    "input_size = 7\n",
    "batch_size = 5\n",
    "input_tensor = torch.randn(batch_size, input_size, dtype=torch.float)\n",
    "\n",
    "eps = 1e-3\n",
    "\n",
    "def custom_batch_norm1d(input_tensor, weight, bias, eps):\n",
    "    mean = torch.mean(input_tensor, dim=0)\n",
    "    var = torch.var(input_tensor, dim=0, unbiased=False)\n",
    "    sqrt = torch.sqrt(var + eps)\n",
    "    return (input_tensor - mean) * weight / sqrt + bias\n"
   ]
  },
  {
   "cell_type": "markdown",
   "metadata": {},
   "source": [
    "___\n",
    "___\n",
    "\n",
    "\n",
    "Избавимся еще от одного упрощения - реализуем работу слоя батч-нормализации на этапе предсказания.\n",
    "\n",
    "На этом этапе вместо статистик по батчу будем использовать экспоненциально сглаженные статистики из истории обучения слоя.\n",
    "\n",
    "В данном шаге вам требуется реализовать полноценный класс батч-нормализации без использования стандартной функции, принимающий на вход двумерный тензор. \n",
    "\n",
    "\n",
    "Осторожно, расчёт дисперсии ведётся по смещенной выборке, а расчет скользящего \n",
    "среднего по несмещенной."
   ]
  },
  {
   "cell_type": "code",
   "execution_count": null,
   "metadata": {},
   "outputs": [],
   "source": [
    "import torch\n",
    "import torch.nn as nn\n",
    "\n",
    "\n",
    "input_size = 3\n",
    "batch_size = 5\n",
    "eps = 1e-1\n",
    "\n",
    "\n",
    "class CustomBatchNorm1d:\n",
    "    def __init__(self, weight, bias, eps, momentum):\n",
    "        self.weight = weight\n",
    "        selg.bias = biad\n",
    "        self.eps = eps\n",
    "        self.momentum = momentum\n",
    "\n",
    "    def __call__(self, input_tensor):\n",
    "        normed_tensor = # Напишите в этом месте нормирование входного тензора.\n",
    "\n",
    "    def eval(self):\n",
    "        # В этом методе реализуйте переключение в режим предикта.\n",
    "\n",
    "\n",
    "batch_norm = nn.BatchNorm1d(input_size, eps=eps)\n",
    "batch_norm.bias.data = torch.randn(input_size, dtype=torch.float)\n",
    "batch_norm.weight.data = torch.randn(input_size, dtype=torch.float)\n",
    "batch_norm.momentum = 0.5\n",
    "\n",
    "custom_batch_norm1d = CustomBatchNorm1d(batch_norm.weight.data,\n",
    "                                        batch_norm.bias.data, eps, batch_norm.momentum)\n",
    "\n",
    "# Проверка происходит автоматически вызовом следующего кода\n",
    "# (раскомментируйте для самостоятельной проверки,\n",
    "#  в коде для сдачи задания должно быть закомментировано):\n",
    "# all_correct = True\n",
    "\n",
    "# for i in range(8):\n",
    "#     torch_input = torch.randn(batch_size, input_size, dtype=torch.float)\n",
    "#     norm_output = batch_norm(torch_input)\n",
    "#     custom_output = custom_batch_norm1d(torch_input)\n",
    "#     all_correct &= torch.allclose(norm_output, custom_output) \\\n",
    "#         and norm_output.shape == custom_output.shape\n",
    "\n",
    "# batch_norm.eval()\n",
    "# custom_batch_norm1d.eval()\n",
    "\n",
    "# for i in range(8):\n",
    "#     torch_input = torch.randn(batch_size, input_size, dtype=torch.float)\n",
    "#     norm_output = batch_norm(torch_input)\n",
    "#     custom_output = custom_batch_norm1d(torch_input)\n",
    "#     all_correct &= torch.allclose(norm_output, custom_output) \\\n",
    "#         and norm_output.shape == custom_output.shape\n",
    "# print(all_correct)"
   ]
  }
 ],
 "metadata": {
  "kernelspec": {
   "display_name": "Python 3",
   "language": "python",
   "name": "python3"
  },
  "language_info": {
   "codemirror_mode": {
    "name": "ipython",
    "version": 3
   },
   "file_extension": ".py",
   "mimetype": "text/x-python",
   "name": "python",
   "nbconvert_exporter": "python",
   "pygments_lexer": "ipython3",
   "version": "3.7.3"
  }
 },
 "nbformat": 4,
 "nbformat_minor": 2
}
