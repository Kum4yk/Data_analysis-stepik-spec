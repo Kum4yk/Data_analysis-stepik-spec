{
 "cells": [
  {
   "cell_type": "code",
   "execution_count": 4,
   "metadata": {},
   "outputs": [],
   "source": [
    "import torch\n",
    "import numpy as np"
   ]
  },
  {
   "cell_type": "markdown",
   "metadata": {},
   "source": [
    "Пусть матрица признаков равна [[4, 2, -1],[-6, 0, 5],[3, 2, 2]], а ядро свертки -- [[0, 1, 2],[1, -1, 0],[1, 0, -2]]\n",
    "\n",
    "Каков будет результат применения свертки со stride=2, padding=1?"
   ]
  },
  {
   "cell_type": "code",
   "execution_count": 35,
   "metadata": {},
   "outputs": [
    {
     "data": {
      "text/plain": [
       "array([[ 0,  0,  0,  0,  0],\n",
       "       [ 0,  4,  2, -1,  0],\n",
       "       [ 0, -6,  0,  5,  0],\n",
       "       [ 0,  3,  2,  2,  0],\n",
       "       [ 0,  0,  0,  0,  0]])"
      ]
     },
     "execution_count": 35,
     "metadata": {},
     "output_type": "execute_result"
    }
   ],
   "source": [
    "padding = 1\n",
    "stride = 2\n",
    "x = np.array([[4, 2, -1],[-6, 0, 5],[3, 2, 2]])\n",
    "x = np.pad(x, padding, \"constant\")\n",
    "kernel = np.array([[0, 1, 2],[1, -1, 0],[1, 0, -2]])\n",
    "x"
   ]
  },
  {
   "cell_type": "code",
   "execution_count": 36,
   "metadata": {},
   "outputs": [
    {
     "data": {
      "text/plain": [
       "array([[ 0,  1,  2],\n",
       "       [ 1, -1,  0],\n",
       "       [ 1,  0, -2]])"
      ]
     },
     "execution_count": 36,
     "metadata": {},
     "output_type": "execute_result"
    }
   ],
   "source": [
    "kernel"
   ]
  },
  {
   "cell_type": "code",
   "execution_count": 41,
   "metadata": {},
   "outputs": [
    {
     "name": "stdout",
     "output_type": "stream",
     "text": [
      "-4 3 , -9 5 , "
     ]
    }
   ],
   "source": [
    "for row in range(1, x.shape[0],  stride):\n",
    "    for col in range(1, x.shape[1],  stride):\n",
    "        print((x[row-1:row+2, col-1:col+2] * kernel).sum(), end=\" \")\n",
    "    print(',', end = \" \")\n",
    "        "
   ]
  },
  {
   "cell_type": "code",
   "execution_count": 42,
   "metadata": {},
   "outputs": [
    {
     "name": "stdout",
     "output_type": "stream",
     "text": [
      "tensor([[-4.,  3.],\n",
      "        [-9.,  5.]])\n"
     ]
    }
   ],
   "source": [
    "import torch\n",
    "\n",
    "from torch import nn\n",
    "\n",
    "conv = nn.Conv2d(1,1,kernel_size=3, padding=1, stride=2, bias=False)\n",
    "\n",
    "X = torch.FloatTensor([[[\n",
    "    [4, 2, -1],\n",
    "    [-6, 0, 5],\n",
    "    [3, 2, 2]]]]\n",
    ")\n",
    "\n",
    "conv.weight.data = torch.FloatTensor([[[\n",
    "    [0, 1, 2],\n",
    "    [1, -1, 0],\n",
    "    [1, 0, -2]]]]\n",
    ")\n",
    "\n",
    "res = conv(X).data[0,0]\n",
    "\n",
    "print(res)"
   ]
  }
 ],
 "metadata": {
  "kernelspec": {
   "display_name": "Python 3",
   "language": "python",
   "name": "python3"
  },
  "language_info": {
   "codemirror_mode": {
    "name": "ipython",
    "version": 3
   },
   "file_extension": ".py",
   "mimetype": "text/x-python",
   "name": "python",
   "nbconvert_exporter": "python",
   "pygments_lexer": "ipython3",
   "version": "3.7.3"
  }
 },
 "nbformat": 4,
 "nbformat_minor": 2
}
