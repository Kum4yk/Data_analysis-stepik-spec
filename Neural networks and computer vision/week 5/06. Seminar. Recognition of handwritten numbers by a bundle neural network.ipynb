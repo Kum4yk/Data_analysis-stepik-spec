{
 "cells": [
  {
   "cell_type": "markdown",
   "metadata": {},
   "source": [
    "Подберите размеры паддингов:"
   ]
  },
  {
   "cell_type": "markdown",
   "metadata": {},
   "source": [
    "$$ W_{out} = \\frac{W - K + 2P}{S} + 1$$"
   ]
  },
  {
   "cell_type": "code",
   "execution_count": 6,
   "metadata": {},
   "outputs": [
    {
     "name": "stdout",
     "output_type": "stream",
     "text": [
      "(1, 1)\n",
      "(2, 2)\n",
      "(3, 3)\n",
      "(4, 4)\n",
      "(1, 2)\n",
      "(8, 8)\n",
      "(1, 1)\n",
      "(1, 1)\n"
     ]
    }
   ],
   "source": [
    "def get_pads(kernel_sizes: list, H_W: list, N=4, C=3, C_out=10, H=8, W=16):\n",
    "    for kernel_size, (H_out, W_out) in zip(kernel_sizes, H_W):\n",
    "        pad_0 = (H_out - H + kernel_size[0] - 1) // 2\n",
    "        pad_1 = (W_out - W + kernel_size[1] - 1) >> 1\n",
    "        print((pad_0, pad_1))\n",
    "\n",
    "\n",
    "kernel_sizes = [\n",
    "    (3, 3), (5, 5), (7, 7), (9, 9),\n",
    "    (3, 5), (3, 3), (4, 4), (2, 2)\n",
    "]\n",
    "\n",
    "H_W = [\n",
    "    (8, 16), (8, 16), (8, 16), (8, 16),\n",
    "    (8, 16), (22, 30), (7, 15), (9, 17)\n",
    "]\n",
    "\n",
    "get_pads(kernel_sizes, H_W)"
   ]
  },
  {
   "cell_type": "code",
   "execution_count": 13,
   "metadata": {},
   "outputs": [],
   "source": [
    "import torch\n",
    "\n",
    "N = 4\n",
    "C = 3\n",
    "C_out = 10\n",
    "H = 8\n",
    "W = 16\n",
    "\n",
    "x = torch.ones((N, C, H, W))\n",
    "\n",
    "\n",
    "# torch.Size([4, 10, 8, 16])\n",
    "out1 = torch.nn.Conv2d(C, C_out, kernel_size=(3, 3), padding=(1, 1))(x)\n",
    "# print(out1.shape) # для самопроверки\n",
    "\n",
    "# torch.Size([4, 10, 8, 16])\n",
    "out2 = torch.nn.Conv2d(C, C_out, kernel_size=(5, 5), padding=(2, 2))(x)\n",
    "# print(out2.shape) # для самопроверки\n",
    "\n",
    "# torch.Size([4, 10, 8, 16])\n",
    "out3 = torch.nn.Conv2d(C, C_out, kernel_size=(7, 7), padding=(3, 3))(x)\n",
    "#print(out3.shape) # для самопроверки\n",
    "\n",
    "# torch.Size([4, 10, 8, 16])\n",
    "out4 = torch.nn.Conv2d(C, C_out, kernel_size=(9, 9), padding=(4, 4))(x)\n",
    "#print(out4.shape) # для самопроверки\n",
    "\n",
    "# torch.Size([4, 10, 8, 16])\n",
    "out5 = torch.nn.Conv2d(C, C_out, kernel_size=(3, 5), padding=(1, 2))(x)\n",
    "#print(out5.shape) # для самопроверки\n",
    "\n",
    "# torch.Size([4, 10, 22, 30])\n",
    "out6 = torch.nn.Conv2d(C, C_out, kernel_size=(3, 3), padding=(8, 8))(x)\n",
    "#print(out6.shape) # для самопроверки\n",
    "\n",
    "# torch.Size([4, 10, 7, 15])\n",
    "out7 = torch.nn.Conv2d(C, C_out, kernel_size=(4, 4), padding=(1, 1))(x)\n",
    "#print(out7.shape) # для самопроверки\n",
    "\n",
    "# torch.Size([4, 10, 9, 17])\n",
    "out8 = torch.nn.Conv2d(C, C_out, kernel_size=(2, 2), padding=(1, 1))(x)\n",
    "#print(out8.shape) # для самопроверки"
   ]
  }
 ],
 "metadata": {
  "kernelspec": {
   "display_name": "Python 3",
   "language": "python",
   "name": "python3"
  },
  "language_info": {
   "codemirror_mode": {
    "name": "ipython",
    "version": 3
   },
   "file_extension": ".py",
   "mimetype": "text/x-python",
   "name": "python",
   "nbconvert_exporter": "python",
   "pygments_lexer": "ipython3",
   "version": "3.7.3"
  }
 },
 "nbformat": 4,
 "nbformat_minor": 2
}
