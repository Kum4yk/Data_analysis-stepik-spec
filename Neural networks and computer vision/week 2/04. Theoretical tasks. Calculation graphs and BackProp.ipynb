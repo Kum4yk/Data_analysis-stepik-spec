{
 "cells": [
  {
   "cell_type": "markdown",
   "metadata": {},
   "source": [
    "Рассмотрим граф вычисления:\n",
    "\n",
    "<img src=\"../data/task_2_4_graph_01.png\" width=\"500\" height=\"600\">\n",
    "  \n",
    "Здесь $x_1$, $x_2$ - входы в граф, $b_1$, $b_2$, $c_1$, $c_2$- настраиваемые параметры.\n",
    "\n",
    "Задача: запишите математическое выражение, которое задает этот граф.\n",
    "\n",
    "Умножение обозначьте как *, сложение - как +, сигмоиду - как sigma, гиперболический тангенс как tanh, нижний индекс обозначайте без подчеркивания, например, $x_1$ пишите как x1 (не так красиво при форматировании, зато гораздо удобнее набирать)."
   ]
  },
  {
   "cell_type": "markdown",
   "metadata": {},
   "source": [
    "$$ (x1 + b1)*sigma(x2 + b2)*c1 + sigma(x1 + b1)*tanh(x2+b2)*c2 $$\n",
    "  \n",
    "  \n",
    "  $$ (x_1 + b_1) \\cdot \\sigma(x_2 + b_2) \\cdot c_1 + \\sigma(x_1 + b_1) \\cdot \\tanh(x_2+b_2) \\cdot c_2$$"
   ]
  },
  {
   "cell_type": "markdown",
   "metadata": {},
   "source": [
    "___\n",
    "___\n",
    "\n",
    "В графе вычисления из предыдущей задачи я пометил промежуточные результаты операций:\n",
    "\n",
    "<img src=\"../data/task_2_4_graph_02.png\" width=\"500\" height=\"600\">\n",
    "\n",
    "Задача: расчитать, чему будет равна производная $y$ по параметру $с_2$ в терминах частных производных промежуточных результатов.\n",
    "  \n",
    "  \n",
    "  \n",
    "  $$ d(y, z9) * d(z9, z6) * d(z6, c2) $$"
   ]
  },
  {
   "cell_type": "markdown",
   "metadata": {},
   "source": [
    "Задача: Необходимо определить, чему будет равна производная $y$ по параметру $b_1$\n",
    "\n",
    "\n",
    "$$(d(y, z8) * d(z8, z7) * d(z7, z1) + d(y, z9) * d(z9, z3) * d(z3, z1)) * d(z1, b1)$$"
   ]
  },
  {
   "cell_type": "markdown",
   "metadata": {},
   "source": [
    "Задача: вычислить производную $y$ по $b_2$. Чему она будет равна в терминах частных производных?\n",
    "\n",
    "\n",
    "$$ (d(y, z8) * d(z8, z7) * d(z7, z4) * d(z4, z2) + d(y, z9) * d(z9, z6) * d(z6, z5) * d(z5, z2)) * d(z2, b2) $$"
   ]
  },
  {
   "cell_type": "markdown",
   "metadata": {},
   "source": [
    "Чему будет равна производная $\\tilde{y} $ по $с_2$, выраженная через входные данные и параметры?\n",
    "\n",
    "\n",
    "$$ sigma(x1 + b1)*tanh(x2+b2) $$"
   ]
  },
  {
   "cell_type": "markdown",
   "metadata": {},
   "source": [
    "Чему будет равна производная $\\tilde{y}$ по $b_1$, выраженная через входные данные и параметры?\n",
    "  \n",
    "  \n",
    "$$sigma(x2 + b2) * c1 + tanh(x2 + b2) * c2 * sigma(x1 + b1) * (1 - sigma(x1 + b1))$$"
   ]
  },
  {
   "cell_type": "markdown",
   "metadata": {},
   "source": [
    "Чему будет равна производная $\\tilde{y}$ по $b_2$, выраженная через входные данные и параметры?\n",
    " \n",
    " \n",
    " $$(x1 + b1) * c1 * sigma(x2 + b2) * (1 - sigma(x2 + b2)) + c2 * sigma(x1 + b1) * ( 1 - tanh(x2+b2) ^ 2)$$"
   ]
  }
 ],
 "metadata": {
  "kernelspec": {
   "display_name": "Python 3",
   "language": "python",
   "name": "python3"
  },
  "language_info": {
   "codemirror_mode": {
    "name": "ipython",
    "version": 3
   },
   "file_extension": ".py",
   "mimetype": "text/x-python",
   "name": "python",
   "nbconvert_exporter": "python",
   "pygments_lexer": "ipython3",
   "version": "3.7.3"
  }
 },
 "nbformat": 4,
 "nbformat_minor": 2
}
