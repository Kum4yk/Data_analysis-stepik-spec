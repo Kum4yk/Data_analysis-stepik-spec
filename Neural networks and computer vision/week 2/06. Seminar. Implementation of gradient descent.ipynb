{
 "cells": [
  {
   "cell_type": "code",
   "execution_count": 1,
   "metadata": {},
   "outputs": [],
   "source": [
    "import numpy as np\n",
    "import torch"
   ]
  },
  {
   "cell_type": "markdown",
   "metadata": {},
   "source": [
    "Допустим, у нас есть функция $f(X) = \\sum{log_{e}(x_{ij} + 1)}$, где $X$ - тензор размера 2x2. Мы выбрали начальное приближение $X^{t=0} = [[1, 2], [4, 5]]$. И шаг градиентного спуска $\\alpha=10$\n",
    "  \n",
    "Чему будет равен $X^{t=1}$ ? "
   ]
  },
  {
   "cell_type": "code",
   "execution_count": 3,
   "metadata": {},
   "outputs": [
    {
     "data": {
      "text/plain": [
       "array([[-4.   , -1.333],\n",
       "       [ 2.   ,  3.333]])"
      ]
     },
     "execution_count": 3,
     "metadata": {},
     "output_type": "execute_result"
    }
   ],
   "source": [
    "X = np.array([[1, 2], [4, 5]])\n",
    "der_f = lambda x: 1 / (x + 1)\n",
    "(X - 10 * der_f(X)).round(3)"
   ]
  },
  {
   "cell_type": "markdown",
   "metadata": {},
   "source": [
    "Реализуйте расчет градиента для функции $f(w) = \\prod\\limits_{i,j}{log_{e}(log_{e}({w_{i,j} + 7}}))$ в точке $w = [[5, 10], [1, 2]]$"
   ]
  },
  {
   "cell_type": "code",
   "execution_count": 6,
   "metadata": {},
   "outputs": [
    {
     "data": {
      "text/plain": [
       "tensor([[0.0201, 0.0109],\n",
       "        [0.0449, 0.0351]], dtype=torch.float64)"
      ]
     },
     "execution_count": 6,
     "metadata": {},
     "output_type": "execute_result"
    }
   ],
   "source": [
    "W = torch.tensor([[5, 10], [1, 2]], dtype=torch.float, requires_grad=True)\n",
    "\n",
    "device = torch.device(\"cuda:0\" if torch.cuda.is_available() else \"cpu\")\n",
    "W = W.to(device)\n",
    "W.retain_grad()s\n",
    "\n",
    "func = torch.log(torch.log(W + 7)).prod()\n",
    "\n",
    "func.backward()\n",
    "\n",
    "W.grad"
   ]
  },
  {
   "cell_type": "markdown",
   "metadata": {},
   "source": [
    "\n",
    "Реализуйте градиентный спуск для той же функции.  \n",
    "  \n",
    "Пусть начальным приближением будет $w^{t=0} = [[5, 10], [1, 2]]$, шаг градиентного спуска $alpha=0.001$.\n",
    "\n",
    "Чему будет равен $w^{t=500}$ ?"
   ]
  },
  {
   "cell_type": "code",
   "execution_count": 18,
   "metadata": {},
   "outputs": [
    {
     "name": "stdout",
     "output_type": "stream",
     "text": [
      "tensor([[4.9900, 9.9948],\n",
      "        [0.9775, 1.9825]], requires_grad=True)\n"
     ]
    }
   ],
   "source": [
    "import torch\n",
    "\n",
    "\n",
    "w = torch.tensor([[5., 10.], [1., 2.]], requires_grad=True)\n",
    "alpha = 0.001\n",
    "\n",
    "device = torch.device(\"cuda:0\" if torch.cuda.is_available() else \"cpu\")\n",
    "w = w.to(device)\n",
    "w.retain_grad()\n",
    "\n",
    "for _ in range(500):\n",
    "    function = (w + 7).log().log().prod()\n",
    "    function.backward()\n",
    "    w.data -=  alpha * w.grad\n",
    "    w.grad.zero_()\n",
    "\n",
    "print(w)"
   ]
  },
  {
   "cell_type": "markdown",
   "metadata": {},
   "source": [
    "Перепишите пример, используя torch.optim.SGD"
   ]
  },
  {
   "cell_type": "code",
   "execution_count": 19,
   "metadata": {},
   "outputs": [
    {
     "name": "stdout",
     "output_type": "stream",
     "text": [
      "tensor([[4.9900, 9.9948],\n",
      "        [0.9775, 1.9825]], requires_grad=True)\n"
     ]
    }
   ],
   "source": [
    "import torch\n",
    "\n",
    "\n",
    "w = torch.tensor([[5., 10.], [1., 2.]], requires_grad=True)\n",
    "alpha = 0.001\n",
    "optimizer =  torch.optim.SGD([w], lr=0.001)\n",
    "\n",
    "for _ in range(500):\n",
    "    function = (w + 7).log().log().prod()\n",
    "    function.backward()\n",
    "    optimizer.step()\n",
    "    optimizer.zero_grad()\n",
    "\n",
    "print(w)"
   ]
  }
 ],
 "metadata": {
  "kernelspec": {
   "display_name": "Python 3",
   "language": "python",
   "name": "python3"
  },
  "language_info": {
   "codemirror_mode": {
    "name": "ipython",
    "version": 3
   },
   "file_extension": ".py",
   "mimetype": "text/x-python",
   "name": "python",
   "nbconvert_exporter": "python",
   "pygments_lexer": "ipython3",
   "version": "3.7.3"
  }
 },
 "nbformat": 4,
 "nbformat_minor": 2
}
