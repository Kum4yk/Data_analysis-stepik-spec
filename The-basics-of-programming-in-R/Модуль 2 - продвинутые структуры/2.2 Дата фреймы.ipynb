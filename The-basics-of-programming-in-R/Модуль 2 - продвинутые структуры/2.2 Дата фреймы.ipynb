{
 "cells": [
  {
   "cell_type": "markdown",
   "metadata": {},
   "source": [
    "Анализ данных -- это далеко не всегда заумные академические модели в вакууме. Иногда на основе простых манипуляций можно сделать разумные выводы и облегчить принятие повседневных решений.\n",
    "\n",
    "Дата фрейм attitude -- встроенный массив данных, содержащий рейтинг департаментов одной финансовой компании, составленный сотрудниками. Представьте, что вы хотите устраиваться как раз в эту компанию, и дата фрейм (совершенно случайно!) оказался в вашем распоряжении. \n",
    "\n",
    "Вы решили, что самое главное для вас -- это возможность учиться новому (learning). Возьмите 5 топовых департаментов по этому показателю. Из этого набора вам более всего подойдёт тот департамент, который имеет наибольшую сумму баллов по трём показателям: реакция на жалобы работников (complaints), надбавки в зависимости от результатов работы (raises) и возможность продвижения (advance).\n",
    "\n",
    "Какой же департамент вам выбрать? Напишите его номер XX (номер строки в дата фрейме)."
   ]
  },
  {
   "cell_type": "code",
   "execution_count": 53,
   "metadata": {},
   "outputs": [
    {
     "data": {
      "text/html": [
       "'29'"
      ],
      "text/latex": [
       "'29'"
      ],
      "text/markdown": [
       "'29'"
      ],
      "text/plain": [
       "[1] \"29\""
      ]
     },
     "metadata": {},
     "output_type": "display_data"
    }
   ],
   "source": [
    "data  <-attitude\n",
    "data  <- data[order(data$learning, decreasing = T),][1:5,]\n",
    "data$data  <- data$com + data$rais + data$adv\n",
    "row.names(data)[which.max(data$data)]\n"
   ]
  },
  {
   "cell_type": "markdown",
   "metadata": {},
   "source": [
    "___\n",
    "Вернёмся ненадолго к дата фрейму attitude. Какими из нижеуказанных способов можно выбрать только те строки, которые соответствуют департаментам с рейтингом (rating) ниже пятидесяти, при этом сохранив все столбцы, кроме rating?\n",
    "\n",
    "Убедитесь, что вы понимаете, почему работает (не работает) каждый из способов!"
   ]
  },
  {
   "cell_type": "code",
   "execution_count": 1,
   "metadata": {},
   "outputs": [
    {
     "ename": "ERROR",
     "evalue": "Error in `[.data.frame`(attitude, rating < 50, names(attitude) != \"rating\"): объект 'rating' не найден\n",
     "output_type": "error",
     "traceback": [
      "Error in `[.data.frame`(attitude, rating < 50, names(attitude) != \"rating\"): объект 'rating' не найден\nTraceback:\n",
      "1. attitude[rating < 50, names(attitude) != \"rating\"]",
      "2. `[.data.frame`(attitude, rating < 50, names(attitude) != \"rating\")"
     ]
    }
   ],
   "source": [
    " attitude[rating < 50, names(attitude) != \"rating\"]"
   ]
  },
  {
   "cell_type": "code",
   "execution_count": 2,
   "metadata": {},
   "outputs": [
    {
     "data": {
      "text/html": [
       "<table>\n",
       "<thead><tr><th></th><th scope=col>complaints</th><th scope=col>privileges</th><th scope=col>learning</th><th scope=col>raises</th><th scope=col>critical</th><th scope=col>advance</th></tr></thead>\n",
       "<tbody>\n",
       "\t<tr><th scope=row>1</th><td>51</td><td>30</td><td>39</td><td>61</td><td>92</td><td>45</td></tr>\n",
       "\t<tr><th scope=row>6</th><td>55</td><td>49</td><td>44</td><td>54</td><td>49</td><td>34</td></tr>\n",
       "\t<tr><th scope=row>24</th><td>37</td><td>42</td><td>58</td><td>50</td><td>57</td><td>49</td></tr>\n",
       "\t<tr><th scope=row>28</th><td>57</td><td>44</td><td>45</td><td>51</td><td>83</td><td>38</td></tr>\n",
       "</tbody>\n",
       "</table>\n"
      ],
      "text/latex": [
       "\\begin{tabular}{r|llllll}\n",
       "  & complaints & privileges & learning & raises & critical & advance\\\\\n",
       "\\hline\n",
       "\t1 & 51 & 30 & 39 & 61 & 92 & 45\\\\\n",
       "\t6 & 55 & 49 & 44 & 54 & 49 & 34\\\\\n",
       "\t24 & 37 & 42 & 58 & 50 & 57 & 49\\\\\n",
       "\t28 & 57 & 44 & 45 & 51 & 83 & 38\\\\\n",
       "\\end{tabular}\n"
      ],
      "text/markdown": [
       "\n",
       "| <!--/--> | complaints | privileges | learning | raises | critical | advance | \n",
       "|---|---|---|---|\n",
       "| 1 | 51 | 30 | 39 | 61 | 92 | 45 | \n",
       "| 6 | 55 | 49 | 44 | 54 | 49 | 34 | \n",
       "| 24 | 37 | 42 | 58 | 50 | 57 | 49 | \n",
       "| 28 | 57 | 44 | 45 | 51 | 83 | 38 | \n",
       "\n",
       "\n"
      ],
      "text/plain": [
       "   complaints privileges learning raises critical advance\n",
       "1  51         30         39       61     92       45     \n",
       "6  55         49         44       54     49       34     \n",
       "24 37         42         58       50     57       49     \n",
       "28 57         44         45       51     83       38     "
      ]
     },
     "metadata": {},
     "output_type": "display_data"
    }
   ],
   "source": [
    "subset(attitude, rating < 50, -rating)"
   ]
  },
  {
   "cell_type": "code",
   "execution_count": 3,
   "metadata": {},
   "outputs": [
    {
     "data": {
      "text/html": [
       "<table>\n",
       "<thead><tr><th></th><th scope=col>complaints</th><th scope=col>privileges</th><th scope=col>learning</th><th scope=col>raises</th><th scope=col>critical</th><th scope=col>advance</th></tr></thead>\n",
       "<tbody>\n",
       "\t<tr><th scope=row>1</th><td>51</td><td>30</td><td>39</td><td>61</td><td>92</td><td>45</td></tr>\n",
       "\t<tr><th scope=row>6</th><td>55</td><td>49</td><td>44</td><td>54</td><td>49</td><td>34</td></tr>\n",
       "\t<tr><th scope=row>24</th><td>37</td><td>42</td><td>58</td><td>50</td><td>57</td><td>49</td></tr>\n",
       "\t<tr><th scope=row>28</th><td>57</td><td>44</td><td>45</td><td>51</td><td>83</td><td>38</td></tr>\n",
       "</tbody>\n",
       "</table>\n"
      ],
      "text/latex": [
       "\\begin{tabular}{r|llllll}\n",
       "  & complaints & privileges & learning & raises & critical & advance\\\\\n",
       "\\hline\n",
       "\t1 & 51 & 30 & 39 & 61 & 92 & 45\\\\\n",
       "\t6 & 55 & 49 & 44 & 54 & 49 & 34\\\\\n",
       "\t24 & 37 & 42 & 58 & 50 & 57 & 49\\\\\n",
       "\t28 & 57 & 44 & 45 & 51 & 83 & 38\\\\\n",
       "\\end{tabular}\n"
      ],
      "text/markdown": [
       "\n",
       "| <!--/--> | complaints | privileges | learning | raises | critical | advance | \n",
       "|---|---|---|---|\n",
       "| 1 | 51 | 30 | 39 | 61 | 92 | 45 | \n",
       "| 6 | 55 | 49 | 44 | 54 | 49 | 34 | \n",
       "| 24 | 37 | 42 | 58 | 50 | 57 | 49 | \n",
       "| 28 | 57 | 44 | 45 | 51 | 83 | 38 | \n",
       "\n",
       "\n"
      ],
      "text/plain": [
       "   complaints privileges learning raises critical advance\n",
       "1  51         30         39       61     92       45     \n",
       "6  55         49         44       54     49       34     \n",
       "24 37         42         58       50     57       49     \n",
       "28 57         44         45       51     83       38     "
      ]
     },
     "metadata": {},
     "output_type": "display_data"
    }
   ],
   "source": [
    " subset(sel = -rating, sub = rating < 50, attitude)"
   ]
  },
  {
   "cell_type": "code",
   "execution_count": 4,
   "metadata": {},
   "outputs": [
    {
     "data": {
      "text/html": [
       "<table>\n",
       "<thead><tr><th></th><th scope=col>complaints</th><th scope=col>privileges</th><th scope=col>learning</th><th scope=col>raises</th><th scope=col>critical</th><th scope=col>advance</th></tr></thead>\n",
       "<tbody>\n",
       "\t<tr><th scope=row>1</th><td>51</td><td>30</td><td>39</td><td>61</td><td>92</td><td>45</td></tr>\n",
       "\t<tr><th scope=row>6</th><td>55</td><td>49</td><td>44</td><td>54</td><td>49</td><td>34</td></tr>\n",
       "\t<tr><th scope=row>24</th><td>37</td><td>42</td><td>58</td><td>50</td><td>57</td><td>49</td></tr>\n",
       "\t<tr><th scope=row>28</th><td>57</td><td>44</td><td>45</td><td>51</td><td>83</td><td>38</td></tr>\n",
       "</tbody>\n",
       "</table>\n"
      ],
      "text/latex": [
       "\\begin{tabular}{r|llllll}\n",
       "  & complaints & privileges & learning & raises & critical & advance\\\\\n",
       "\\hline\n",
       "\t1 & 51 & 30 & 39 & 61 & 92 & 45\\\\\n",
       "\t6 & 55 & 49 & 44 & 54 & 49 & 34\\\\\n",
       "\t24 & 37 & 42 & 58 & 50 & 57 & 49\\\\\n",
       "\t28 & 57 & 44 & 45 & 51 & 83 & 38\\\\\n",
       "\\end{tabular}\n"
      ],
      "text/markdown": [
       "\n",
       "| <!--/--> | complaints | privileges | learning | raises | critical | advance | \n",
       "|---|---|---|---|\n",
       "| 1 | 51 | 30 | 39 | 61 | 92 | 45 | \n",
       "| 6 | 55 | 49 | 44 | 54 | 49 | 34 | \n",
       "| 24 | 37 | 42 | 58 | 50 | 57 | 49 | \n",
       "| 28 | 57 | 44 | 45 | 51 | 83 | 38 | \n",
       "\n",
       "\n"
      ],
      "text/plain": [
       "   complaints privileges learning raises critical advance\n",
       "1  51         30         39       61     92       45     \n",
       "6  55         49         44       54     49       34     \n",
       "24 37         42         58       50     57       49     \n",
       "28 57         44         45       51     83       38     "
      ]
     },
     "metadata": {},
     "output_type": "display_data"
    }
   ],
   "source": [
    "attitude[attitude$rating < 50, names(attitude) != \"rating\"]"
   ]
  },
  {
   "cell_type": "code",
   "execution_count": 5,
   "metadata": {},
   "outputs": [
    {
     "ename": "ERROR",
     "evalue": "Error in -\"rating\": неправильный аргумент для унарного оператора\n",
     "output_type": "error",
     "traceback": [
      "Error in -\"rating\": неправильный аргумент для унарного оператора\nTraceback:\n",
      "1. attitude[attitude$rating < 50, -\"rating\"]",
      "2. `[.data.frame`(attitude, attitude$rating < 50, -\"rating\")"
     ]
    }
   ],
   "source": [
    " attitude[attitude$rating < 50, -\"rating\"]"
   ]
  },
  {
   "cell_type": "markdown",
   "metadata": {},
   "source": [
    "___\n",
    "Визуальная инспекция данных -- важный этап предварительного анализа данных. Она позволяет заметить очевидные несоответствия и аномалии в данных, и, что немаловажно, \"почувствовать\" структуру дата фрейма. Какие в нём есть переменные? Что они означают? В каких единицах измеряются? Какой у них диапазон значений? \n",
    "\n",
    "Используйте вспомогательные функции, о которых я говорил, чтобы разглядеть встроенный дата фрейм с названием quakes. Сопоставьте значения из этого дата фрейма и их описания.\n",
    "\n",
    "Подсказки: \n",
    "\n",
    "- описание дата фрейма есть в справке: ?quakes  \n",
    "- медиана -- одна из описательных статистик; медиана и среднее -- разные вещи!"
   ]
  },
  {
   "cell_type": "code",
   "execution_count": 9,
   "metadata": {},
   "outputs": [
    {
     "data": {
      "text/html": [
       "<table>\n",
       "<thead><tr><th scope=col>lat</th><th scope=col>long</th><th scope=col>depth</th><th scope=col>mag</th><th scope=col>stations</th></tr></thead>\n",
       "<tbody>\n",
       "\t<tr><td>-20.42</td><td>181.62</td><td>562   </td><td>4.8   </td><td>41    </td></tr>\n",
       "\t<tr><td>-20.62</td><td>181.03</td><td>650   </td><td>4.2   </td><td>15    </td></tr>\n",
       "\t<tr><td>-26.00</td><td>184.10</td><td> 42   </td><td>5.4   </td><td>43    </td></tr>\n",
       "\t<tr><td>-17.97</td><td>181.66</td><td>626   </td><td>4.1   </td><td>19    </td></tr>\n",
       "\t<tr><td>-20.42</td><td>181.96</td><td>649   </td><td>4.0   </td><td>11    </td></tr>\n",
       "\t<tr><td>-19.68</td><td>184.31</td><td>195   </td><td>4.0   </td><td>12    </td></tr>\n",
       "</tbody>\n",
       "</table>\n"
      ],
      "text/latex": [
       "\\begin{tabular}{r|lllll}\n",
       " lat & long & depth & mag & stations\\\\\n",
       "\\hline\n",
       "\t -20.42 & 181.62 & 562    & 4.8    & 41    \\\\\n",
       "\t -20.62 & 181.03 & 650    & 4.2    & 15    \\\\\n",
       "\t -26.00 & 184.10 &  42    & 5.4    & 43    \\\\\n",
       "\t -17.97 & 181.66 & 626    & 4.1    & 19    \\\\\n",
       "\t -20.42 & 181.96 & 649    & 4.0    & 11    \\\\\n",
       "\t -19.68 & 184.31 & 195    & 4.0    & 12    \\\\\n",
       "\\end{tabular}\n"
      ],
      "text/markdown": [
       "\n",
       "lat | long | depth | mag | stations | \n",
       "|---|---|---|---|---|---|\n",
       "| -20.42 | 181.62 | 562    | 4.8    | 41     | \n",
       "| -20.62 | 181.03 | 650    | 4.2    | 15     | \n",
       "| -26.00 | 184.10 |  42    | 5.4    | 43     | \n",
       "| -17.97 | 181.66 | 626    | 4.1    | 19     | \n",
       "| -20.42 | 181.96 | 649    | 4.0    | 11     | \n",
       "| -19.68 | 184.31 | 195    | 4.0    | 12     | \n",
       "\n",
       "\n"
      ],
      "text/plain": [
       "  lat    long   depth mag stations\n",
       "1 -20.42 181.62 562   4.8 41      \n",
       "2 -20.62 181.03 650   4.2 15      \n",
       "3 -26.00 184.10  42   5.4 43      \n",
       "4 -17.97 181.66 626   4.1 19      \n",
       "5 -20.42 181.96 649   4.0 11      \n",
       "6 -19.68 184.31 195   4.0 12      "
      ]
     },
     "metadata": {},
     "output_type": "display_data"
    }
   ],
   "source": [
    "data  <- quakes\n",
    "\n",
    "##[,1]\tlat\tnumeric\tLatitude of event\n",
    "##[,2]\tlong\tnumeric\tLongitude\n",
    "## [,3]\tdepth\tnumeric\tDepth (km)\n",
    "## [,4]\tmag\tnumeric\tRichter Magnitude\n",
    "## [,5]\tstations\tnumeric\tNumber of stations reporting\n",
    "\n",
    "head(data)"
   ]
  },
  {
   "cell_type": "code",
   "execution_count": 10,
   "metadata": {},
   "outputs": [
    {
     "data": {
      "text/html": [
       "311.371"
      ],
      "text/latex": [
       "311.371"
      ],
      "text/markdown": [
       "311.371"
      ],
      "text/plain": [
       "[1] 311.371"
      ]
     },
     "metadata": {},
     "output_type": "display_data"
    }
   ],
   "source": [
    "mean(data$depth)"
   ]
  },
  {
   "cell_type": "code",
   "execution_count": 11,
   "metadata": {},
   "outputs": [
    {
     "data": {
      "text/html": [
       "4"
      ],
      "text/latex": [
       "4"
      ],
      "text/markdown": [
       "4"
      ],
      "text/plain": [
       "[1] 4"
      ]
     },
     "metadata": {},
     "output_type": "display_data"
    }
   ],
   "source": [
    "min(data$mag)"
   ]
  },
  {
   "cell_type": "code",
   "execution_count": 12,
   "metadata": {},
   "outputs": [
    {
     "data": {
      "text/html": [
       "14"
      ],
      "text/latex": [
       "14"
      ],
      "text/markdown": [
       "14"
      ],
      "text/plain": [
       "[1] 14"
      ]
     },
     "metadata": {},
     "output_type": "display_data"
    }
   ],
   "source": [
    "data$station[nrow(data)-1]"
   ]
  },
  {
   "cell_type": "code",
   "execution_count": 14,
   "metadata": {},
   "outputs": [
    {
     "data": {
      "text/html": [
       "43"
      ],
      "text/latex": [
       "43"
      ],
      "text/markdown": [
       "43"
      ],
      "text/plain": [
       "[1] 43"
      ]
     },
     "metadata": {},
     "output_type": "display_data"
    }
   ],
   "source": [
    "data$station[3]"
   ]
  },
  {
   "cell_type": "code",
   "execution_count": 13,
   "metadata": {},
   "outputs": [
    {
     "data": {
      "text/html": [
       "6.4"
      ],
      "text/latex": [
       "6.4"
      ],
      "text/markdown": [
       "6.4"
      ],
      "text/plain": [
       "[1] 6.4"
      ]
     },
     "metadata": {},
     "output_type": "display_data"
    }
   ],
   "source": [
    "max(data$mag)"
   ]
  },
  {
   "cell_type": "code",
   "execution_count": 16,
   "metadata": {},
   "outputs": [
    {
     "data": {
      "text/html": [
       "247"
      ],
      "text/latex": [
       "247"
      ],
      "text/markdown": [
       "247"
      ],
      "text/plain": [
       "[1] 247"
      ]
     },
     "metadata": {},
     "output_type": "display_data"
    }
   ],
   "source": [
    "median(data$depth)"
   ]
  },
  {
   "cell_type": "code",
   "execution_count": 17,
   "metadata": {},
   "outputs": [
    {
     "data": {
      "text/plain": [
       "      lat              long           depth            mag      \n",
       " Min.   :-38.59   Min.   :165.7   Min.   : 40.0   Min.   :4.00  \n",
       " 1st Qu.:-23.47   1st Qu.:179.6   1st Qu.: 99.0   1st Qu.:4.30  \n",
       " Median :-20.30   Median :181.4   Median :247.0   Median :4.60  \n",
       " Mean   :-20.64   Mean   :179.5   Mean   :311.4   Mean   :4.62  \n",
       " 3rd Qu.:-17.64   3rd Qu.:183.2   3rd Qu.:543.0   3rd Qu.:4.90  \n",
       " Max.   :-10.72   Max.   :188.1   Max.   :680.0   Max.   :6.40  \n",
       "    stations     \n",
       " Min.   : 10.00  \n",
       " 1st Qu.: 18.00  \n",
       " Median : 27.00  \n",
       " Mean   : 33.42  \n",
       " 3rd Qu.: 42.00  \n",
       " Max.   :132.00  "
      ]
     },
     "metadata": {},
     "output_type": "display_data"
    }
   ],
   "source": [
    "summary(data)"
   ]
  },
  {
   "cell_type": "code",
   "execution_count": null,
   "metadata": {},
   "outputs": [],
   "source": []
  }
 ],
 "metadata": {
  "kernelspec": {
   "display_name": "R",
   "language": "R",
   "name": "ir"
  },
  "language_info": {
   "codemirror_mode": "r",
   "file_extension": ".r",
   "mimetype": "text/x-r-source",
   "name": "R",
   "pygments_lexer": "r",
   "version": "3.5.1"
  }
 },
 "nbformat": 4,
 "nbformat_minor": 2
}
