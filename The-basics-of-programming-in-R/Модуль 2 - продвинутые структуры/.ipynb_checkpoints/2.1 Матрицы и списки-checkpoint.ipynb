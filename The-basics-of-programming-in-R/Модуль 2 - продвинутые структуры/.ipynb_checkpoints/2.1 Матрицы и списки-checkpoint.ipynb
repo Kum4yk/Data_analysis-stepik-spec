{
 "cells": [
  {
   "cell_type": "code",
   "execution_count": 1,
   "metadata": {},
   "outputs": [
    {
     "data": {
      "text/html": [
       "<table>\n",
       "<tbody>\n",
       "\t<tr><td>1</td><td>3</td></tr>\n",
       "\t<tr><td>2</td><td>4</td></tr>\n",
       "</tbody>\n",
       "</table>\n"
      ],
      "text/latex": [
       "\\begin{tabular}{ll}\n",
       "\t 1 & 3\\\\\n",
       "\t 2 & 4\\\\\n",
       "\\end{tabular}\n"
      ],
      "text/markdown": [
       "\n",
       "| 1 | 3 | \n",
       "| 2 | 4 | \n",
       "\n",
       "\n"
      ],
      "text/plain": [
       "     [,1] [,2]\n",
       "[1,] 1    3   \n",
       "[2,] 2    4   "
      ]
     },
     "metadata": {},
     "output_type": "display_data"
    }
   ],
   "source": [
    "matrix(1:10, nrow = 2, ncol = 2)"
   ]
  },
  {
   "cell_type": "code",
   "execution_count": 2,
   "metadata": {},
   "outputs": [
    {
     "data": {
      "text/html": [
       "<table>\n",
       "<tbody>\n",
       "\t<tr><td>1 </td><td>3 </td><td>5 </td><td>7 </td><td> 9</td></tr>\n",
       "\t<tr><td>2 </td><td>4 </td><td>6 </td><td>8 </td><td>10</td></tr>\n",
       "</tbody>\n",
       "</table>\n"
      ],
      "text/latex": [
       "\\begin{tabular}{lllll}\n",
       "\t 1  & 3  & 5  & 7  &  9\\\\\n",
       "\t 2  & 4  & 6  & 8  & 10\\\\\n",
       "\\end{tabular}\n"
      ],
      "text/markdown": [
       "\n",
       "| 1  | 3  | 5  | 7  |  9 | \n",
       "| 2  | 4  | 6  | 8  | 10 | \n",
       "\n",
       "\n"
      ],
      "text/plain": [
       "     [,1] [,2] [,3] [,4] [,5]\n",
       "[1,] 1    3    5    7     9  \n",
       "[2,] 2    4    6    8    10  "
      ]
     },
     "metadata": {},
     "output_type": "display_data"
    }
   ],
   "source": [
    "matrix(1:10, nrow = 2)"
   ]
  },
  {
   "cell_type": "code",
   "execution_count": 3,
   "metadata": {},
   "outputs": [
    {
     "data": {
      "text/html": [
       "<table>\n",
       "<tbody>\n",
       "\t<tr><td>1 </td><td>2 </td><td>3 </td><td>4 </td><td> 5</td></tr>\n",
       "\t<tr><td>6 </td><td>7 </td><td>8 </td><td>9 </td><td>10</td></tr>\n",
       "</tbody>\n",
       "</table>\n"
      ],
      "text/latex": [
       "\\begin{tabular}{lllll}\n",
       "\t 1  & 2  & 3  & 4  &  5\\\\\n",
       "\t 6  & 7  & 8  & 9  & 10\\\\\n",
       "\\end{tabular}\n"
      ],
      "text/markdown": [
       "\n",
       "| 1  | 2  | 3  | 4  |  5 | \n",
       "| 6  | 7  | 8  | 9  | 10 | \n",
       "\n",
       "\n"
      ],
      "text/plain": [
       "     [,1] [,2] [,3] [,4] [,5]\n",
       "[1,] 1    2    3    4     5  \n",
       "[2,] 6    7    8    9    10  "
      ]
     },
     "metadata": {},
     "output_type": "display_data"
    }
   ],
   "source": [
    "matrix(1:10, nrow = 2, byrow = T)"
   ]
  },
  {
   "cell_type": "code",
   "execution_count": 5,
   "metadata": {},
   "outputs": [
    {
     "data": {
      "text/html": [
       "<ol class=list-inline>\n",
       "\t<li>5</li>\n",
       "\t<li>2</li>\n",
       "</ol>\n"
      ],
      "text/latex": [
       "\\begin{enumerate*}\n",
       "\\item 5\n",
       "\\item 2\n",
       "\\end{enumerate*}\n"
      ],
      "text/markdown": [
       "1. 5\n",
       "2. 2\n",
       "\n",
       "\n"
      ],
      "text/plain": [
       "[1] 5 2"
      ]
     },
     "metadata": {},
     "output_type": "display_data"
    },
    {
     "data": {
      "text/html": [
       "<table>\n",
       "<tbody>\n",
       "\t<tr><td>1 </td><td> 6</td></tr>\n",
       "\t<tr><td>2 </td><td> 7</td></tr>\n",
       "\t<tr><td>3 </td><td> 8</td></tr>\n",
       "\t<tr><td>4 </td><td> 9</td></tr>\n",
       "\t<tr><td>5 </td><td>10</td></tr>\n",
       "</tbody>\n",
       "</table>\n"
      ],
      "text/latex": [
       "\\begin{tabular}{ll}\n",
       "\t 1  &  6\\\\\n",
       "\t 2  &  7\\\\\n",
       "\t 3  &  8\\\\\n",
       "\t 4  &  9\\\\\n",
       "\t 5  & 10\\\\\n",
       "\\end{tabular}\n"
      ],
      "text/markdown": [
       "\n",
       "| 1  |  6 | \n",
       "| 2  |  7 | \n",
       "| 3  |  8 | \n",
       "| 4  |  9 | \n",
       "| 5  | 10 | \n",
       "\n",
       "\n"
      ],
      "text/plain": [
       "     [,1] [,2]\n",
       "[1,] 1     6  \n",
       "[2,] 2     7  \n",
       "[3,] 3     8  \n",
       "[4,] 4     9  \n",
       "[5,] 5    10  "
      ]
     },
     "metadata": {},
     "output_type": "display_data"
    }
   ],
   "source": [
    "n <- matrix(1:10, ncol =  2)\n",
    "dim(n)\n",
    "n"
   ]
  },
  {
   "cell_type": "code",
   "execution_count": 36,
   "metadata": {},
   "outputs": [],
   "source": [
    "m1 = matrix(1:4, nrow = 2 )\n",
    "m2 = matrix(c(1, 2, 2, 3), nrow = 2)"
   ]
  },
  {
   "cell_type": "code",
   "execution_count": 7,
   "metadata": {},
   "outputs": [
    {
     "data": {
      "text/html": [
       "<table>\n",
       "<tbody>\n",
       "\t<tr><td>2</td><td>5</td></tr>\n",
       "\t<tr><td>4</td><td>7</td></tr>\n",
       "</tbody>\n",
       "</table>\n"
      ],
      "text/latex": [
       "\\begin{tabular}{ll}\n",
       "\t 2 & 5\\\\\n",
       "\t 4 & 7\\\\\n",
       "\\end{tabular}\n"
      ],
      "text/markdown": [
       "\n",
       "| 2 | 5 | \n",
       "| 4 | 7 | \n",
       "\n",
       "\n"
      ],
      "text/plain": [
       "     [,1] [,2]\n",
       "[1,] 2    5   \n",
       "[2,] 4    7   "
      ]
     },
     "metadata": {},
     "output_type": "display_data"
    }
   ],
   "source": [
    "m1 + m2"
   ]
  },
  {
   "cell_type": "code",
   "execution_count": 8,
   "metadata": {},
   "outputs": [
    {
     "data": {
      "text/html": [
       "<table>\n",
       "<tbody>\n",
       "\t<tr><td>5</td><td>7</td></tr>\n",
       "\t<tr><td>6</td><td>8</td></tr>\n",
       "</tbody>\n",
       "</table>\n"
      ],
      "text/latex": [
       "\\begin{tabular}{ll}\n",
       "\t 5 & 7\\\\\n",
       "\t 6 & 8\\\\\n",
       "\\end{tabular}\n"
      ],
      "text/markdown": [
       "\n",
       "| 5 | 7 | \n",
       "| 6 | 8 | \n",
       "\n",
       "\n"
      ],
      "text/plain": [
       "     [,1] [,2]\n",
       "[1,] 5    7   \n",
       "[2,] 6    8   "
      ]
     },
     "metadata": {},
     "output_type": "display_data"
    }
   ],
   "source": [
    "m1 + 4"
   ]
  },
  {
   "cell_type": "code",
   "execution_count": 12,
   "metadata": {},
   "outputs": [
    {
     "name": "stdout",
     "output_type": "stream",
     "text": [
      "     [,1] [,2]\n",
      "[1,]    7   11\n",
      "[2,]   10   16\n",
      "     [,1] [,2]\n",
      "[1,]    1    6\n",
      "[2,]    4   12\n"
     ]
    }
   ],
   "source": [
    "# multiplication by linear algebra\n",
    "print(m1 %*% m2)\n",
    "\n",
    "# not linear\n",
    "print(m1 * m2)\n"
   ]
  },
  {
   "cell_type": "code",
   "execution_count": 13,
   "metadata": {},
   "outputs": [
    {
     "data": {
      "text/html": [
       "1"
      ],
      "text/latex": [
       "1"
      ],
      "text/markdown": [
       "1"
      ],
      "text/plain": [
       "[1] 1"
      ]
     },
     "metadata": {},
     "output_type": "display_data"
    }
   ],
   "source": [
    "m1[1, 1]"
   ]
  },
  {
   "cell_type": "code",
   "execution_count": 37,
   "metadata": {},
   "outputs": [
    {
     "name": "stdout",
     "output_type": "stream",
     "text": [
      "[1] 1 3\n",
      "     [,1] [,2]\n",
      "[1,]    1    3\n"
     ]
    }
   ],
   "source": [
    "print(m1[1, ])\n",
    "print(m1[1,, drop = F])"
   ]
  },
  {
   "cell_type": "code",
   "execution_count": 19,
   "metadata": {},
   "outputs": [
    {
     "name": "stdout",
     "output_type": "stream",
     "text": [
      "[1] 1 2\n",
      "     [,1]\n",
      "[1,]    1\n",
      "[2,]    2\n"
     ]
    }
   ],
   "source": [
    "print(m1[, 1])\n",
    "print(m1[, 1, drop = F])"
   ]
  },
  {
   "cell_type": "markdown",
   "metadata": {},
   "source": [
    "___"
   ]
  },
  {
   "cell_type": "markdown",
   "metadata": {},
   "source": [
    "Если матрица mat имеет размерность m на n (например, mat <- matrix(0, m, n)), то какой объект будет возвращён после выполнения следующих операций?"
   ]
  },
  {
   "cell_type": "code",
   "execution_count": 3,
   "metadata": {},
   "outputs": [
    {
     "data": {
      "text/html": [
       "<table>\n",
       "<tbody>\n",
       "\t<tr><td>1 </td><td> 6</td><td>11</td><td>16</td><td>21</td><td>26</td></tr>\n",
       "\t<tr><td>2 </td><td> 7</td><td>12</td><td>17</td><td>22</td><td>27</td></tr>\n",
       "\t<tr><td>3 </td><td> 8</td><td>13</td><td>18</td><td>23</td><td>28</td></tr>\n",
       "\t<tr><td>4 </td><td> 9</td><td>14</td><td>19</td><td>24</td><td>29</td></tr>\n",
       "\t<tr><td>5 </td><td>10</td><td>15</td><td>20</td><td>25</td><td>30</td></tr>\n",
       "</tbody>\n",
       "</table>\n"
      ],
      "text/latex": [
       "\\begin{tabular}{llllll}\n",
       "\t 1  &  6 & 11 & 16 & 21 & 26\\\\\n",
       "\t 2  &  7 & 12 & 17 & 22 & 27\\\\\n",
       "\t 3  &  8 & 13 & 18 & 23 & 28\\\\\n",
       "\t 4  &  9 & 14 & 19 & 24 & 29\\\\\n",
       "\t 5  & 10 & 15 & 20 & 25 & 30\\\\\n",
       "\\end{tabular}\n"
      ],
      "text/markdown": [
       "\n",
       "| 1  |  6 | 11 | 16 | 21 | 26 | \n",
       "| 2  |  7 | 12 | 17 | 22 | 27 | \n",
       "| 3  |  8 | 13 | 18 | 23 | 28 | \n",
       "| 4  |  9 | 14 | 19 | 24 | 29 | \n",
       "| 5  | 10 | 15 | 20 | 25 | 30 | \n",
       "\n",
       "\n"
      ],
      "text/plain": [
       "     [,1] [,2] [,3] [,4] [,5] [,6]\n",
       "[1,] 1     6   11   16   21   26  \n",
       "[2,] 2     7   12   17   22   27  \n",
       "[3,] 3     8   13   18   23   28  \n",
       "[4,] 4     9   14   19   24   29  \n",
       "[5,] 5    10   15   20   25   30  "
      ]
     },
     "metadata": {},
     "output_type": "display_data"
    }
   ],
   "source": [
    "m = 5\n",
    "n = 6\n",
    "mat = matrix(1:30, m, n)\n",
    "mat"
   ]
  },
  {
   "cell_type": "code",
   "execution_count": 10,
   "metadata": {},
   "outputs": [
    {
     "name": "stdout",
     "output_type": "stream",
     "text": [
      "[1]  5 10 15 20 25 30\n"
     ]
    }
   ],
   "source": [
    "print(mat[m,])"
   ]
  },
  {
   "cell_type": "code",
   "execution_count": 9,
   "metadata": {},
   "outputs": [
    {
     "name": "stdout",
     "output_type": "stream",
     "text": [
      "     [,1] [,2] [,3] [,4] [,5] [,6]\n",
      "[1,]    5   10   15   20   25   30\n"
     ]
    }
   ],
   "source": [
    "print(mat[m, , drop = FALSE])"
   ]
  },
  {
   "cell_type": "code",
   "execution_count": 11,
   "metadata": {},
   "outputs": [
    {
     "name": "stdout",
     "output_type": "stream",
     "text": [
      "      [,1] [,2] [,3] [,4] [,5] [,6]\n",
      "[1,] FALSE TRUE TRUE TRUE TRUE TRUE\n",
      "[2,] FALSE TRUE TRUE TRUE TRUE TRUE\n",
      "[3,] FALSE TRUE TRUE TRUE TRUE TRUE\n",
      "[4,] FALSE TRUE TRUE TRUE TRUE TRUE\n",
      "[5,] FALSE TRUE TRUE TRUE TRUE TRUE\n"
     ]
    }
   ],
   "source": [
    "print(mat > 5)"
   ]
  },
  {
   "cell_type": "code",
   "execution_count": 12,
   "metadata": {
    "scrolled": true
   },
   "outputs": [
    {
     "name": "stdout",
     "output_type": "stream",
     "text": [
      " [1]  6  7  8  9 10 11 12 13 14 15 16 17 18 19 20 21 22 23 24 25 26 27 28 29 30\n"
     ]
    }
   ],
   "source": [
    "print(mat[mat > 5])"
   ]
  },
  {
   "cell_type": "markdown",
   "metadata": {},
   "source": [
    "___"
   ]
  },
  {
   "cell_type": "markdown",
   "metadata": {},
   "source": [
    "Предположим, что у нас есть целочисленный вектор v и число n. Наша задача — найти позицию элемента в векторе, который ближе всего к числу n. При этом если таких элементов несколько, необходимо указать все позиции.\n",
    "\n",
    "Напишите функцию, которая принимает на вход вектор и число и возвращает вектор индексов, отвечающих указанному условию. Индексы должны быть выстроены по возрастанию.\n",
    "\n",
    "Пример. Пусть v <- c(5, 2, 7, 7, 7, 2, 0, 0) и n = 1. Ответом будет вектор\n",
    "\n",
    "2 6 7 8\n",
    "\n",
    "Подсказки: \n",
    "- \"ближе всего\" означает минимальную разницу между числами;\n",
    "- не забудьте про модуль!"
   ]
  },
  {
   "cell_type": "code",
   "execution_count": 32,
   "metadata": {},
   "outputs": [],
   "source": [
    "find_closest <- function(v, n) {\n",
    "    return(\n",
    "        which(\n",
    "            abs(v - n) == min(v - n)\n",
    "        )\n",
    "    )\n",
    "}"
   ]
  },
  {
   "cell_type": "code",
   "execution_count": 33,
   "metadata": {
    "scrolled": true
   },
   "outputs": [
    {
     "name": "stdout",
     "output_type": "stream",
     "text": [
      "[1] 2 6 7 8\n"
     ]
    }
   ],
   "source": [
    "v <- c(5, 2, 7, 7, 7, 2, 0, 0) \n",
    "n = 1\n",
    "print(find_closest(v, n))"
   ]
  },
  {
   "cell_type": "markdown",
   "metadata": {},
   "source": [
    "___"
   ]
  },
  {
   "cell_type": "markdown",
   "metadata": {},
   "source": [
    "Построим зиккурат! Напишите функцию, которая принимает одно целое число n, а возвращает “ступенчатую” матрицу, состоящую из n этажей. Этажи нумеруются с первого, ширина каждой ступеньки равна одной строке или столбцу.\n",
    "\n",
    "Пример. Пусть n=4, тогда необходимо вернуть матрицу вида\n",
    "\n",
    "-  1   1   1   1   1   1   1\n",
    "-  1   2   2   2   2   2   1\n",
    "-  1   2   3   3   3   2   1\n",
    "-  1   2   3   4   3   2   1\n",
    "-  1   2   3   3   3   2   1\n",
    "-  1   2   2   2   2   2   1\n",
    "-  1   1   1   1   1   1   1\n",
    "\n",
    "Подсказка: обратите внимание на случай n=1! Зиккурат в этом случае будет матрицей 1 на 1, высотой 1."
   ]
  },
  {
   "cell_type": "code",
   "execution_count": 34,
   "metadata": {},
   "outputs": [
    {
     "data": {
      "text/html": [
       "<table>\n",
       "<tbody>\n",
       "\t<tr><td>1</td><td>1</td><td>1</td></tr>\n",
       "\t<tr><td>1</td><td>2</td><td>1</td></tr>\n",
       "\t<tr><td>1</td><td>1</td><td>1</td></tr>\n",
       "</tbody>\n",
       "</table>\n"
      ],
      "text/latex": [
       "\\begin{tabular}{lll}\n",
       "\t 1 & 1 & 1\\\\\n",
       "\t 1 & 2 & 1\\\\\n",
       "\t 1 & 1 & 1\\\\\n",
       "\\end{tabular}\n"
      ],
      "text/markdown": [
       "\n",
       "| 1 | 1 | 1 | \n",
       "| 1 | 2 | 1 | \n",
       "| 1 | 1 | 1 | \n",
       "\n",
       "\n"
      ],
      "text/plain": [
       "     [,1] [,2] [,3]\n",
       "[1,] 1    1    1   \n",
       "[2,] 1    2    1   \n",
       "[3,] 1    1    1   "
      ]
     },
     "metadata": {},
     "output_type": "display_data"
    }
   ],
   "source": [
    "build_ziggurat <- function(n) {\n",
    "    matr  <- matrix(0, ncol = n*2-1, nrow = n*2-1)\n",
    "    matr[(n*2+1)/2, (n*2+1)/2] = n\n",
    "    for(i in 1:(n*2-1)) {\n",
    "        for(j in 1:(n*2-1)) {\n",
    "            x = abs(n - i)\n",
    "            y = abs(n - j)\n",
    "            matr[i, j] = n - max(x,y)\n",
    "        }\n",
    "    }\n",
    "    return(matr)\n",
    "}\n",
    "\n",
    "build_ziggurat_1 <- function(n) {\n",
    "    n2 <- n * 2 - 1\n",
    "    m <- matrix(0L, ncol = n2, nrow = n2)\n",
    "    n - pmax(abs(n - row(m)), abs(n - col(m)))\n",
    "}\n",
    "build_ziggurat_1(2)"
   ]
  },
  {
   "cell_type": "code",
   "execution_count": 31,
   "metadata": {},
   "outputs": [],
   "source": [
    "?pmin"
   ]
  },
  {
   "cell_type": "markdown",
   "metadata": {},
   "source": [
    "___\n",
    "Для работы с матрицами пригодится функция под названием diag﻿. Примечательно, что эта функция возвращает принципиально разные объекты в зависимости от аргумента. Какие именно?\n",
    "\n",
    "P.S. Единичная матрица -- это не та, которая состоит из единиц. Единицы у неё только на диагонали, а остальные элементы равны нулю."
   ]
  },
  {
   "cell_type": "code",
   "execution_count": 36,
   "metadata": {},
   "outputs": [
    {
     "data": {
      "text/html": [
       "<table>\n",
       "<tbody>\n",
       "\t<tr><td>1</td><td>0</td><td>0</td><td>0</td><td>0</td></tr>\n",
       "\t<tr><td>0</td><td>1</td><td>0</td><td>0</td><td>0</td></tr>\n",
       "\t<tr><td>0</td><td>0</td><td>1</td><td>0</td><td>0</td></tr>\n",
       "\t<tr><td>0</td><td>0</td><td>0</td><td>1</td><td>0</td></tr>\n",
       "\t<tr><td>0</td><td>0</td><td>0</td><td>0</td><td>1</td></tr>\n",
       "</tbody>\n",
       "</table>\n"
      ],
      "text/latex": [
       "\\begin{tabular}{lllll}\n",
       "\t 1 & 0 & 0 & 0 & 0\\\\\n",
       "\t 0 & 1 & 0 & 0 & 0\\\\\n",
       "\t 0 & 0 & 1 & 0 & 0\\\\\n",
       "\t 0 & 0 & 0 & 1 & 0\\\\\n",
       "\t 0 & 0 & 0 & 0 & 1\\\\\n",
       "\\end{tabular}\n"
      ],
      "text/markdown": [
       "\n",
       "| 1 | 0 | 0 | 0 | 0 | \n",
       "| 0 | 1 | 0 | 0 | 0 | \n",
       "| 0 | 0 | 1 | 0 | 0 | \n",
       "| 0 | 0 | 0 | 1 | 0 | \n",
       "| 0 | 0 | 0 | 0 | 1 | \n",
       "\n",
       "\n"
      ],
      "text/plain": [
       "     [,1] [,2] [,3] [,4] [,5]\n",
       "[1,] 1    0    0    0    0   \n",
       "[2,] 0    1    0    0    0   \n",
       "[3,] 0    0    1    0    0   \n",
       "[4,] 0    0    0    1    0   \n",
       "[5,] 0    0    0    0    1   "
      ]
     },
     "metadata": {},
     "output_type": "display_data"
    }
   ],
   "source": [
    "diag(5)"
   ]
  },
  {
   "cell_type": "code",
   "execution_count": 37,
   "metadata": {},
   "outputs": [
    {
     "data": {
      "text/html": [
       "<table>\n",
       "<tbody>\n",
       "\t<tr><td>1</td><td>0</td><td>0</td></tr>\n",
       "\t<tr><td>0</td><td>2</td><td>0</td></tr>\n",
       "\t<tr><td>0</td><td>0</td><td>3</td></tr>\n",
       "</tbody>\n",
       "</table>\n"
      ],
      "text/latex": [
       "\\begin{tabular}{lll}\n",
       "\t 1 & 0 & 0\\\\\n",
       "\t 0 & 2 & 0\\\\\n",
       "\t 0 & 0 & 3\\\\\n",
       "\\end{tabular}\n"
      ],
      "text/markdown": [
       "\n",
       "| 1 | 0 | 0 | \n",
       "| 0 | 2 | 0 | \n",
       "| 0 | 0 | 3 | \n",
       "\n",
       "\n"
      ],
      "text/plain": [
       "     [,1] [,2] [,3]\n",
       "[1,] 1    0    0   \n",
       "[2,] 0    2    0   \n",
       "[3,] 0    0    3   "
      ]
     },
     "metadata": {},
     "output_type": "display_data"
    }
   ],
   "source": [
    "diag(c(1,2,3))"
   ]
  },
  {
   "cell_type": "code",
   "execution_count": 38,
   "metadata": {},
   "outputs": [
    {
     "data": {
      "text/html": [
       "<ol class=list-inline>\n",
       "\t<li>1</li>\n",
       "\t<li>5</li>\n",
       "\t<li>9</li>\n",
       "</ol>\n"
      ],
      "text/latex": [
       "\\begin{enumerate*}\n",
       "\\item 1\n",
       "\\item 5\n",
       "\\item 9\n",
       "\\end{enumerate*}\n"
      ],
      "text/markdown": [
       "1. 1\n",
       "2. 5\n",
       "3. 9\n",
       "\n",
       "\n"
      ],
      "text/plain": [
       "[1] 1 5 9"
      ]
     },
     "metadata": {},
     "output_type": "display_data"
    }
   ],
   "source": [
    "diag(matrix(1:9, ncol = 3))"
   ]
  },
  {
   "cell_type": "markdown",
   "metadata": {},
   "source": [
    "___\n",
    "Если вектор достаточно длинный, то визуально сложно оценить, какие в нём содержатся элементы и сколько раз они повторяются. В этом случае полезно будет посмотреть на таблицу частот элементов.\n",
    "\n",
    "Пусть x -- целочисленный вектор. Напишите функцию, которая вернёт матрицу из двух строк. В первой строке перечислите все различные элементы вектора, упорядоченные по возрастанию. Во второй строке укажите частоты (количество повторов) этих элементов.\n",
    "\n",
    "Пример. Пусть x <- c(5, 2, 7, 7, 7, 2, 0, 0). Тогда функция должна вернуть матрицу 2х4 с элементами\n",
    "\n",
    "0 2 5 7  \n",
    "2 2 1 3"
   ]
  },
  {
   "cell_type": "code",
   "execution_count": 190,
   "metadata": {
    "scrolled": true
   },
   "outputs": [
    {
     "data": {
      "text/html": [
       "<table>\n",
       "<thead><tr><th></th><th scope=col>0</th><th scope=col>2</th><th scope=col>5</th><th scope=col>7</th></tr></thead>\n",
       "<tbody>\n",
       "\t<tr><th scope=row></th><td>0</td><td>2</td><td>5</td><td>7</td></tr>\n",
       "\t<tr><th scope=row>name</th><td>2</td><td>2</td><td>1</td><td>3</td></tr>\n",
       "</tbody>\n",
       "</table>\n"
      ],
      "text/latex": [
       "\\begin{tabular}{r|llll}\n",
       "  & 0 & 2 & 5 & 7\\\\\n",
       "\\hline\n",
       "\t & 0 & 2 & 5 & 7\\\\\n",
       "\tname & 2 & 2 & 1 & 3\\\\\n",
       "\\end{tabular}\n"
      ],
      "text/markdown": [
       "\n",
       "| <!--/--> | 0 | 2 | 5 | 7 | \n",
       "|---|---|\n",
       "|  | 0 | 2 | 5 | 7 | \n",
       "| name | 2 | 2 | 1 | 3 | \n",
       "\n",
       "\n"
      ],
      "text/plain": [
       "     0 2 5 7\n",
       "     0 2 5 7\n",
       "name 2 2 1 3"
      ]
     },
     "metadata": {},
     "output_type": "display_data"
    }
   ],
   "source": [
    "count_elements <- function(x) {\n",
    "    uni  <- sort(unique(x))\n",
    "    name  <- rep(0, length(uni))\n",
    "    names(name)  <- uni\n",
    "    for(i in x) {\n",
    "        elem = toString(i)\n",
    "        name[elem]  <- name[elem] + 1\n",
    "    }\n",
    "    matr  <- matrix(uni, nrow = 1)\n",
    "    matr  <- rbind(matr, name)\n",
    "    return(matr)\n",
    "}\n",
    "\n",
    "x <- c(5, 2, 7, 7, 7, 2, 0, 0)\n",
    "count_elements(x)\n"
   ]
  },
  {
   "cell_type": "code",
   "execution_count": 189,
   "metadata": {},
   "outputs": [
    {
     "data": {
      "text/html": [
       "<table>\n",
       "<thead><tr><th scope=col>expr</th><th scope=col>time</th></tr></thead>\n",
       "<tbody>\n",
       "\t<tr><td>table(x)         </td><td>   806305        </td></tr>\n",
       "\t<tr><td>count_elements(x)</td><td>104736187        </td></tr>\n",
       "\t<tr><td>count_elements(x)</td><td>103375406        </td></tr>\n",
       "\t<tr><td>table(x)         </td><td>   749795        </td></tr>\n",
       "\t<tr><td>count_elements(x)</td><td>104449088        </td></tr>\n",
       "\t<tr><td>table(x)         </td><td>   751313        </td></tr>\n",
       "\t<tr><td>table(x)         </td><td>   663325        </td></tr>\n",
       "\t<tr><td>count_elements(x)</td><td>108051291        </td></tr>\n",
       "\t<tr><td>table(x)         </td><td>   817683        </td></tr>\n",
       "\t<tr><td>table(x)         </td><td>   663324        </td></tr>\n",
       "\t<tr><td>table(x)         </td><td>   654981        </td></tr>\n",
       "\t<tr><td>count_elements(x)</td><td>103335584        </td></tr>\n",
       "\t<tr><td>table(x)         </td><td>   768759        </td></tr>\n",
       "\t<tr><td>count_elements(x)</td><td>105837556        </td></tr>\n",
       "\t<tr><td>count_elements(x)</td><td>105503429        </td></tr>\n",
       "\t<tr><td>table(x)         </td><td>   761932        </td></tr>\n",
       "\t<tr><td>count_elements(x)</td><td>109340393        </td></tr>\n",
       "\t<tr><td>table(x)         </td><td>   765345        </td></tr>\n",
       "\t<tr><td>count_elements(x)</td><td>108682379        </td></tr>\n",
       "\t<tr><td>count_elements(x)</td><td>108837495        </td></tr>\n",
       "</tbody>\n",
       "</table>\n"
      ],
      "text/latex": [
       "\\begin{tabular}{r|ll}\n",
       " expr & time\\\\\n",
       "\\hline\n",
       "\t table(x)          &    806305        \\\\\n",
       "\t count\\_elements(x) & 104736187          \\\\\n",
       "\t count\\_elements(x) & 103375406          \\\\\n",
       "\t table(x)          &    749795        \\\\\n",
       "\t count\\_elements(x) & 104449088          \\\\\n",
       "\t table(x)          &    751313        \\\\\n",
       "\t table(x)          &    663325        \\\\\n",
       "\t count\\_elements(x) & 108051291          \\\\\n",
       "\t table(x)          &    817683        \\\\\n",
       "\t table(x)          &    663324        \\\\\n",
       "\t table(x)          &    654981        \\\\\n",
       "\t count\\_elements(x) & 103335584          \\\\\n",
       "\t table(x)          &    768759        \\\\\n",
       "\t count\\_elements(x) & 105837556          \\\\\n",
       "\t count\\_elements(x) & 105503429          \\\\\n",
       "\t table(x)          &    761932        \\\\\n",
       "\t count\\_elements(x) & 109340393          \\\\\n",
       "\t table(x)          &    765345        \\\\\n",
       "\t count\\_elements(x) & 108682379          \\\\\n",
       "\t count\\_elements(x) & 108837495          \\\\\n",
       "\\end{tabular}\n"
      ],
      "text/markdown": [
       "\n",
       "expr | time | \n",
       "|---|---|---|---|---|---|---|---|---|---|---|---|---|---|---|---|---|---|---|---|\n",
       "| table(x)          |    806305         | \n",
       "| count_elements(x) | 104736187         | \n",
       "| count_elements(x) | 103375406         | \n",
       "| table(x)          |    749795         | \n",
       "| count_elements(x) | 104449088         | \n",
       "| table(x)          |    751313         | \n",
       "| table(x)          |    663325         | \n",
       "| count_elements(x) | 108051291         | \n",
       "| table(x)          |    817683         | \n",
       "| table(x)          |    663324         | \n",
       "| table(x)          |    654981         | \n",
       "| count_elements(x) | 103335584         | \n",
       "| table(x)          |    768759         | \n",
       "| count_elements(x) | 105837556         | \n",
       "| count_elements(x) | 105503429         | \n",
       "| table(x)          |    761932         | \n",
       "| count_elements(x) | 109340393         | \n",
       "| table(x)          |    765345         | \n",
       "| count_elements(x) | 108682379         | \n",
       "| count_elements(x) | 108837495         | \n",
       "\n",
       "\n"
      ],
      "text/plain": [
       "   expr              time     \n",
       "1  table(x)             806305\n",
       "2  count_elements(x) 104736187\n",
       "3  count_elements(x) 103375406\n",
       "4  table(x)             749795\n",
       "5  count_elements(x) 104449088\n",
       "6  table(x)             751313\n",
       "7  table(x)             663325\n",
       "8  count_elements(x) 108051291\n",
       "9  table(x)             817683\n",
       "10 table(x)             663324\n",
       "11 table(x)             654981\n",
       "12 count_elements(x) 103335584\n",
       "13 table(x)             768759\n",
       "14 count_elements(x) 105837556\n",
       "15 count_elements(x) 105503429\n",
       "16 table(x)             761932\n",
       "17 count_elements(x) 109340393\n",
       "18 table(x)             765345\n",
       "19 count_elements(x) 108682379\n",
       "20 count_elements(x) 108837495"
      ]
     },
     "metadata": {},
     "output_type": "display_data"
    }
   ],
   "source": [
    "x <- sample(10, 10000, replace = T)\n",
    "microbenchmark(count_elements(x), table(x), times = 10)"
   ]
  },
  {
   "cell_type": "code",
   "execution_count": 191,
   "metadata": {},
   "outputs": [],
   "source": [
    "count_elements <- function(x) {\n",
    "  v <- sort(unique(x))\n",
    "  rbind(v, sapply(v, function(i) sum(x == i)))\n",
    "}"
   ]
  },
  {
   "cell_type": "code",
   "execution_count": 194,
   "metadata": {},
   "outputs": [
    {
     "data": {
      "text/html": [
       "<table>\n",
       "<thead><tr><th scope=col>expr</th><th scope=col>time</th></tr></thead>\n",
       "<tbody>\n",
       "\t<tr><td>table(x)         </td><td>850299           </td></tr>\n",
       "\t<tr><td>table(x)         </td><td>698975           </td></tr>\n",
       "\t<tr><td>count_elements(x)</td><td>583300           </td></tr>\n",
       "\t<tr><td>count_elements(x)</td><td>539306           </td></tr>\n",
       "\t<tr><td>count_elements(x)</td><td>537790           </td></tr>\n",
       "\t<tr><td>count_elements(x)</td><td>534376           </td></tr>\n",
       "\t<tr><td>table(x)         </td><td>675840           </td></tr>\n",
       "\t<tr><td>table(x)         </td><td>669393           </td></tr>\n",
       "\t<tr><td>table(x)         </td><td>665980           </td></tr>\n",
       "\t<tr><td>table(x)         </td><td>664842           </td></tr>\n",
       "\t<tr><td>count_elements(x)</td><td>542720           </td></tr>\n",
       "\t<tr><td>count_elements(x)</td><td>536272           </td></tr>\n",
       "\t<tr><td>table(x)         </td><td>668635           </td></tr>\n",
       "\t<tr><td>table(x)         </td><td>687597           </td></tr>\n",
       "\t<tr><td>count_elements(x)</td><td>533238           </td></tr>\n",
       "\t<tr><td>count_elements(x)</td><td>553339           </td></tr>\n",
       "\t<tr><td>count_elements(x)</td><td>520723           </td></tr>\n",
       "\t<tr><td>table(x)         </td><td>675840           </td></tr>\n",
       "\t<tr><td>count_elements(x)</td><td>533618           </td></tr>\n",
       "\t<tr><td>table(x)         </td><td>680391           </td></tr>\n",
       "</tbody>\n",
       "</table>\n"
      ],
      "text/latex": [
       "\\begin{tabular}{r|ll}\n",
       " expr & time\\\\\n",
       "\\hline\n",
       "\t table(x)          & 850299           \\\\\n",
       "\t table(x)          & 698975           \\\\\n",
       "\t count\\_elements(x) & 583300             \\\\\n",
       "\t count\\_elements(x) & 539306             \\\\\n",
       "\t count\\_elements(x) & 537790             \\\\\n",
       "\t count\\_elements(x) & 534376             \\\\\n",
       "\t table(x)          & 675840           \\\\\n",
       "\t table(x)          & 669393           \\\\\n",
       "\t table(x)          & 665980           \\\\\n",
       "\t table(x)          & 664842           \\\\\n",
       "\t count\\_elements(x) & 542720             \\\\\n",
       "\t count\\_elements(x) & 536272             \\\\\n",
       "\t table(x)          & 668635           \\\\\n",
       "\t table(x)          & 687597           \\\\\n",
       "\t count\\_elements(x) & 533238             \\\\\n",
       "\t count\\_elements(x) & 553339             \\\\\n",
       "\t count\\_elements(x) & 520723             \\\\\n",
       "\t table(x)          & 675840           \\\\\n",
       "\t count\\_elements(x) & 533618             \\\\\n",
       "\t table(x)          & 680391           \\\\\n",
       "\\end{tabular}\n"
      ],
      "text/markdown": [
       "\n",
       "expr | time | \n",
       "|---|---|---|---|---|---|---|---|---|---|---|---|---|---|---|---|---|---|---|---|\n",
       "| table(x)          | 850299            | \n",
       "| table(x)          | 698975            | \n",
       "| count_elements(x) | 583300            | \n",
       "| count_elements(x) | 539306            | \n",
       "| count_elements(x) | 537790            | \n",
       "| count_elements(x) | 534376            | \n",
       "| table(x)          | 675840            | \n",
       "| table(x)          | 669393            | \n",
       "| table(x)          | 665980            | \n",
       "| table(x)          | 664842            | \n",
       "| count_elements(x) | 542720            | \n",
       "| count_elements(x) | 536272            | \n",
       "| table(x)          | 668635            | \n",
       "| table(x)          | 687597            | \n",
       "| count_elements(x) | 533238            | \n",
       "| count_elements(x) | 553339            | \n",
       "| count_elements(x) | 520723            | \n",
       "| table(x)          | 675840            | \n",
       "| count_elements(x) | 533618            | \n",
       "| table(x)          | 680391            | \n",
       "\n",
       "\n"
      ],
      "text/plain": [
       "   expr              time  \n",
       "1  table(x)          850299\n",
       "2  table(x)          698975\n",
       "3  count_elements(x) 583300\n",
       "4  count_elements(x) 539306\n",
       "5  count_elements(x) 537790\n",
       "6  count_elements(x) 534376\n",
       "7  table(x)          675840\n",
       "8  table(x)          669393\n",
       "9  table(x)          665980\n",
       "10 table(x)          664842\n",
       "11 count_elements(x) 542720\n",
       "12 count_elements(x) 536272\n",
       "13 table(x)          668635\n",
       "14 table(x)          687597\n",
       "15 count_elements(x) 533238\n",
       "16 count_elements(x) 553339\n",
       "17 count_elements(x) 520723\n",
       "18 table(x)          675840\n",
       "19 count_elements(x) 533618\n",
       "20 table(x)          680391"
      ]
     },
     "metadata": {},
     "output_type": "display_data"
    }
   ],
   "source": [
    "x <- sample(10, 10000, replace = T)\n",
    "microbenchmark(count_elements(x), table(x), times = 10)\n"
   ]
  },
  {
   "cell_type": "markdown",
   "metadata": {},
   "source": [
    "___\n",
    "Парижане бунтуют! По слухам, Бастилия плохо охраняется, а её арсеналы полны пороха и мушкетов.\n",
    "Пришло время решительных действий. Наши агенты смогли подсчитать количество солдат в патрулях в каждой из восьми башен крепости. Вот эти данные:\n",
    "\n",
    "Составьте короткий отчёт: какая из башен менее всего защищена, сколько в ней солдат, и сколько всего солдат в Бастилии? Свобода, равенство, братство!\n",
    "\n",
    "P.S. Формат ответа: tower_name, XX, YY﻿: полное название башни как в списке (без кавычек) и два числа. В качестве разделителя -- запятая и пробел."
   ]
  },
  {
   "cell_type": "code",
   "execution_count": 222,
   "metadata": {
    "scrolled": true
   },
   "outputs": [
    {
     "name": "stdout",
     "output_type": "stream",
     "text": [
      "[1] \"Liberte Tower\"\n",
      "[1] 10\n",
      "[1] 170\n"
     ]
    }
   ],
   "source": [
    "set.seed(1789)\n",
    "bastille <- list(\n",
    "  \"La Chapelle Tower\" = rbinom(5, 10, 1/2), \n",
    "  \"Tresor Tower\" = rbinom(8, 12, 1/4), \n",
    "  \"Comte Tower\" = rbinom(14, 3, 1/5) + 1,\n",
    "  \"Baziniere Tower\" = rbinom(8, 4, 4/5), \n",
    "  \"Bertaudiere Tower\" = rbinom(4, 8, 2/3),\n",
    "  \"Liberte Tower\" = rbinom(1, 100, 0.1), \n",
    "  \"Puits Tower\" = rbinom(5, 5, 0.7),\n",
    "  \"Coin Tower\" = rbinom(3, 16, 0.4)\n",
    ")\n",
    "all_n  <- 0\n",
    "max_n  <- 9999999\n",
    "name  <- \"\"\n",
    "for(i in names(bastille)) {\n",
    "    some  <- sum(c(bastille[[i]]))\n",
    "    all_n  <- all_n + some\n",
    "    if (some < max_n) {\n",
    "        name  <- i\n",
    "        max_n  <- some\n",
    "    }\n",
    "}\n",
    "print(name)\n",
    "print(max_n)\n",
    "print(all_n)"
   ]
  },
  {
   "cell_type": "code",
   "execution_count": 223,
   "metadata": {},
   "outputs": [
    {
     "data": {
      "text/html": [
       "<dl class=dl-horizontal>\n",
       "\t<dt>La Chapelle Tower</dt>\n",
       "\t\t<dd>28</dd>\n",
       "\t<dt>Tresor Tower</dt>\n",
       "\t\t<dd>30</dd>\n",
       "\t<dt>Comte Tower</dt>\n",
       "\t\t<dd>23</dd>\n",
       "\t<dt>Baziniere Tower</dt>\n",
       "\t\t<dd>24</dd>\n",
       "\t<dt>Bertaudiere Tower</dt>\n",
       "\t\t<dd>18</dd>\n",
       "\t<dt>Liberte Tower</dt>\n",
       "\t\t<dd>10</dd>\n",
       "\t<dt>Puits Tower</dt>\n",
       "\t\t<dd>20</dd>\n",
       "\t<dt>Coin Tower</dt>\n",
       "\t\t<dd>17</dd>\n",
       "</dl>\n"
      ],
      "text/latex": [
       "\\begin{description*}\n",
       "\\item[La Chapelle Tower] 28\n",
       "\\item[Tresor Tower] 30\n",
       "\\item[Comte Tower] 23\n",
       "\\item[Baziniere Tower] 24\n",
       "\\item[Bertaudiere Tower] 18\n",
       "\\item[Liberte Tower] 10\n",
       "\\item[Puits Tower] 20\n",
       "\\item[Coin Tower] 17\n",
       "\\end{description*}\n"
      ],
      "text/markdown": [
       "La Chapelle Tower\n",
       ":   28Tresor Tower\n",
       ":   30Comte Tower\n",
       ":   23Baziniere Tower\n",
       ":   24Bertaudiere Tower\n",
       ":   18Liberte Tower\n",
       ":   10Puits Tower\n",
       ":   20Coin Tower\n",
       ":   17\n",
       "\n"
      ],
      "text/plain": [
       "La Chapelle Tower      Tresor Tower       Comte Tower   Baziniere Tower \n",
       "               28                30                23                24 \n",
       "Bertaudiere Tower     Liberte Tower       Puits Tower        Coin Tower \n",
       "               18                10                20                17 "
      ]
     },
     "metadata": {},
     "output_type": "display_data"
    },
    {
     "data": {
      "text/html": [
       "'Liberte Tower, 10, 170'"
      ],
      "text/latex": [
       "'Liberte Tower, 10, 170'"
      ],
      "text/markdown": [
       "'Liberte Tower, 10, 170'"
      ],
      "text/plain": [
       "[1] \"Liberte Tower, 10, 170\""
      ]
     },
     "metadata": {},
     "output_type": "display_data"
    }
   ],
   "source": [
    "b <- sapply(bastille, sum)\n",
    "b\n",
    "paste(c(names(which.min(b)), min(b), sum(b)), collapse = \", \")"
   ]
  }
 ],
 "metadata": {
  "kernelspec": {
   "display_name": "R",
   "language": "R",
   "name": "ir"
  },
  "language_info": {
   "codemirror_mode": "r",
   "file_extension": ".r",
   "mimetype": "text/x-r-source",
   "name": "R",
   "pygments_lexer": "r",
   "version": "3.5.1"
  }
 },
 "nbformat": 4,
 "nbformat_minor": 2
}
