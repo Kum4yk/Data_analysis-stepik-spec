{
 "cells": [
  {
   "cell_type": "markdown",
   "metadata": {},
   "source": [
    "\n",
    "Воспользуемся изученными приёмами и попредсказываем!\n",
    "\n",
    "Даны 2 датасэта, к которым вы можете обращаться:\n",
    "\n",
    "- train - размеченный с известными правильным ответами (хранятся в колонке y)\n",
    "\n",
    "\n",
    "- test - набор, где нужно предсказать их\n",
    "\n",
    "\n",
    "Найдите дерево с наиболее подходящими параметрами с помощью GridSearchCV и предскажите с его помощью ответы ко 2-ому сэту! Границы параметров как раньше:\n",
    "\n",
    "- максимальная глубина - от 1 до 10 уровней\n",
    "\n",
    "\n",
    "- минимальное число проб для разделения - от 2 до 10\n",
    "\n",
    "\n",
    "- минимальное число проб в листе - от 1 до 10\n",
    "\n",
    "\n",
    "Названия переменных тоже:лучшее дерево - best_tree, GridSearchCV - search, а предсказания - predictions"
   ]
  },
  {
   "cell_type": "code",
   "execution_count": null,
   "metadata": {},
   "outputs": [],
   "source": [
    "import numpy as np\n",
    "import pandas as pd\n",
    "from sklearn.tree import DecisionTreeClassifier\n",
    "from sklearn.model_selection import GridSearchCV\n",
    "\n",
    "\n",
    "X_train = train.loc[:, train.columns != 'y']\n",
    "y_train = train.y\n",
    "\n",
    "params = {\n",
    "    \"max_depth\": range(1, 11),\n",
    "    \"min_samples_split\": range(2, 11),\n",
    "    \"min_samples_leaf\": range(1, 11)\n",
    "    }\n",
    "\n",
    "search = GridSearchCV(DecisionTreeClassifier(), params)\n",
    "\n",
    "search.fit(X_train, y_train)\n",
    "\n",
    "best_tree = search.best_estimator_\n",
    "\n",
    "predictions = best_tree.predict(test)"
   ]
  },
  {
   "cell_type": "markdown",
   "metadata": {},
   "source": [
    "---\n",
    "---\n",
    "\n",
    "При классификации модель может допускать ошибки, присваивая наблюдению неверный класс. Существуют различные метрики оценки качества предсказаний, которые базируются на 4-ёх параметрах - true positive, false positive, false negative и true negative, соответствующих тому какой класс был присвоен наблюдениям каждого из классов. Матрицу из 4-ёх (в случае бинарной классификации) этих параметров называют confusion matrix.\n",
    "\n",
    "В sklearn можно её удобно получить с помощью функции confusion_matrix. Вам даны 2 эррея с истинными классами наблюдений и предсказанными - y и predictions. Получите по ним confusion matrix и поместите её в переменную conf_matrix."
   ]
  },
  {
   "cell_type": "code",
   "execution_count": null,
   "metadata": {},
   "outputs": [],
   "source": [
    "from sklearn.metrics import confusion_matrix\n",
    "\n",
    "conf_matrix = confusion_matrix(y, predictions)"
   ]
  },
  {
   "cell_type": "markdown",
   "metadata": {},
   "source": [
    "---\n",
    "---\n",
    "\n",
    "\n",
    "**Precision** - Отношение правильно определённых положительных наблюдений ко всем определённым как положительные\n",
    "\n",
    "\n",
    "**Accuracy** - Отношение правильно классифицированных наблюдений ко всем\n",
    "\n",
    "\n",
    "**Specificity, True Negative Rate** - Отношение правильно определённых отрицательных случаев ко всем отрицательным - показывает какую часть отрицательных случаев модель правильно классифицирует\n",
    "\n",
    "\n",
    "**F1−score** - Отношение удвоенного произведения precision и recall к их сумме\n",
    "\n",
    "\n",
    "**Recall, True Positive Rate, Sensitivity** - Отношение правильно определённых положительных случаев ко всем положительным - показывает какую часть положительных случаев модель правильно классифицирует"
   ]
  }
 ],
 "metadata": {
  "kernelspec": {
   "display_name": "Python 3",
   "language": "python",
   "name": "python3"
  },
  "language_info": {
   "codemirror_mode": {
    "name": "ipython",
    "version": 3
   },
   "file_extension": ".py",
   "mimetype": "text/x-python",
   "name": "python",
   "nbconvert_exporter": "python",
   "pygments_lexer": "ipython3",
   "version": "3.7.3"
  }
 },
 "nbformat": 4,
 "nbformat_minor": 2
}
